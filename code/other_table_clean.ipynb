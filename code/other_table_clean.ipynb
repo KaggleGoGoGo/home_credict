{
 "cells": [
  {
   "cell_type": "code",
   "execution_count": 1,
   "metadata": {},
   "outputs": [],
   "source": [
    "import seaborn as sns"
   ]
  },
  {
   "cell_type": "code",
   "execution_count": 2,
   "metadata": {},
   "outputs": [
    {
     "name": "stderr",
     "output_type": "stream",
     "text": [
      "/home/ray/anaconda3/lib/python3.6/site-packages/ipykernel_launcher.py:4: FutureWarning: \n",
      "Passing list-likes to .loc or [] with any missing label will raise\n",
      "KeyError in the future, you can use .reindex() as an alternative.\n",
      "\n",
      "See the documentation here:\n",
      "http://pandas.pydata.org/pandas-docs/stable/indexing.html#deprecate-loc-reindex-listlike\n",
      "  after removing the cwd from sys.path.\n",
      "/home/ray/anaconda3/lib/python3.6/site-packages/pandas/core/indexing.py:1367: FutureWarning: \n",
      "Passing list-likes to .loc or [] with any missing label will raise\n",
      "KeyError in the future, you can use .reindex() as an alternative.\n",
      "\n",
      "See the documentation here:\n",
      "http://pandas.pydata.org/pandas-docs/stable/indexing.html#deprecate-loc-reindex-listlike\n",
      "  return self._getitem_tuple(key)\n"
     ]
    }
   ],
   "source": [
    "df_train = pd.read_csv(\"../data/application_train.csv\")\n",
    "df_test = pd.read_csv(\"../data/application_test.csv\")\n",
    "df_y_train = df_train.loc[:, ['SK_ID_CURR', 'TARGET']]\n",
    "df_y_test = df_test.loc[:, ['SK_ID_CURR', 'TARGET']]\n"
   ]
  },
  {
   "cell_type": "code",
   "execution_count": 3,
   "metadata": {},
   "outputs": [],
   "source": [
    "del df_train\n",
    "del df_test"
   ]
  },
  {
   "cell_type": "markdown",
   "metadata": {},
   "source": [
    "# Bureau和Bureau_bal处理\n",
    "\n",
    "## 1. Bureau_bal 处理思路\n",
    "\n",
    "1. 按照`SK_ID_BUREAU`分组计算数目，作为新变量`BUREAU_BAL_COUNT`\n",
    "2. 对`STATUS`进行独热编码，发现大于0的情况非常稀疏，因此将其合并，得到`NOT_ZERO`\n",
    "3. 对每个`SK_ID_BUREAU`求出closed情况的均值：` C_RATIO`\n",
    "4. 合并`SK_ID_CURR`变量，并且按照`SK_ID_CURR`分组求所有变量的SUM和MEAN\n",
    "\n",
    "## 2. BUREAU 处理思路"
   ]
  },
  {
   "cell_type": "markdown",
   "metadata": {},
   "source": [
    "## Bureau_bal.csv"
   ]
  },
  {
   "cell_type": "code",
   "execution_count": 4,
   "metadata": {},
   "outputs": [],
   "source": [
    "df_bureau = pd.read_csv('../data/bureau.csv')\n",
    "df_bureau_bal = pd.read_csv('../data/bureau_balance.csv')"
   ]
  },
  {
   "cell_type": "code",
   "execution_count": 5,
   "metadata": {},
   "outputs": [],
   "source": [
    "bureau_bal_count = df_bureau_bal.groupby('SK_ID_BUREAU')['SK_ID_BUREAU'].count()"
   ]
  },
  {
   "cell_type": "code",
   "execution_count": 6,
   "metadata": {},
   "outputs": [],
   "source": [
    "df_bureau_bal = pd.get_dummies(df_bureau_bal)"
   ]
  },
  {
   "cell_type": "code",
   "execution_count": 7,
   "metadata": {},
   "outputs": [],
   "source": [
    "df_bureau_bal = df_bureau_bal.groupby('SK_ID_BUREAU').sum()"
   ]
  },
  {
   "cell_type": "code",
   "execution_count": 8,
   "metadata": {},
   "outputs": [],
   "source": [
    "df_bureau_bal['BUREAU_BAL_COUNT'] = df_bureau_bal.loc[:, ['STATUS_0', 'STATUS_1', 'STATUS_2', \n",
    "                                                          'STATUS_3', 'STATUS_4', 'STATUS_5', 'STATUS_C', 'STATUS_X']].sum(axis=1)"
   ]
  },
  {
   "cell_type": "code",
   "execution_count": 9,
   "metadata": {},
   "outputs": [],
   "source": [
    "df_bureau_bal['NOT_ZERO'] = df_bureau_bal.loc[:, ['STATUS_1', 'STATUS_2', 'STATUS_3', 'STATUS_4', 'STATUS_5']].sum(axis=1)\n",
    "df_bureau_bal['C_RATIO'] =df_bureau_bal['STATUS_C'] / df_bureau_bal['BUREAU_BAL_COUNT']"
   ]
  },
  {
   "cell_type": "code",
   "execution_count": 10,
   "metadata": {},
   "outputs": [],
   "source": [
    "df_bureau_bal = df_bureau_bal.drop(columns=['STATUS_1', 'STATUS_2', 'STATUS_3', 'STATUS_4', 'STATUS_5'])"
   ]
  },
  {
   "cell_type": "code",
   "execution_count": 11,
   "metadata": {},
   "outputs": [],
   "source": [
    "# df_bureau_bal = df_bureau_bal.drop(columns=['MONTHS_BALANCE'])"
   ]
  },
  {
   "cell_type": "code",
   "execution_count": 12,
   "metadata": {},
   "outputs": [],
   "source": [
    "temp_dic = df_bureau.loc[:, ['SK_ID_CURR',\t'SK_ID_BUREAU']]\n",
    "temp_dic.index = temp_dic['SK_ID_BUREAU']\n",
    "del temp_dic['SK_ID_BUREAU']\n",
    "df_bureau_bal_res = pd.merge(df_bureau_bal, temp_dic, left_index=True, right_index=True,how='inner')"
   ]
  },
  {
   "cell_type": "code",
   "execution_count": 13,
   "metadata": {},
   "outputs": [
    {
     "data": {
      "text/html": [
       "<div>\n",
       "<style scoped>\n",
       "    .dataframe tbody tr th:only-of-type {\n",
       "        vertical-align: middle;\n",
       "    }\n",
       "\n",
       "    .dataframe tbody tr th {\n",
       "        vertical-align: top;\n",
       "    }\n",
       "\n",
       "    .dataframe thead th {\n",
       "        text-align: right;\n",
       "    }\n",
       "</style>\n",
       "<table border=\"1\" class=\"dataframe\">\n",
       "  <thead>\n",
       "    <tr style=\"text-align: right;\">\n",
       "      <th></th>\n",
       "      <th>MONTHS_BALANCE</th>\n",
       "      <th>STATUS_0</th>\n",
       "      <th>STATUS_C</th>\n",
       "      <th>STATUS_X</th>\n",
       "      <th>BUREAU_BAL_COUNT</th>\n",
       "      <th>NOT_ZERO</th>\n",
       "      <th>C_RATIO</th>\n",
       "      <th>SK_ID_CURR</th>\n",
       "    </tr>\n",
       "    <tr>\n",
       "      <th>SK_ID_BUREAU</th>\n",
       "      <th></th>\n",
       "      <th></th>\n",
       "      <th></th>\n",
       "      <th></th>\n",
       "      <th></th>\n",
       "      <th></th>\n",
       "      <th></th>\n",
       "      <th></th>\n",
       "    </tr>\n",
       "  </thead>\n",
       "  <tbody>\n",
       "    <tr>\n",
       "      <th>5001710</th>\n",
       "      <td>-3403</td>\n",
       "      <td>5</td>\n",
       "      <td>48</td>\n",
       "      <td>30</td>\n",
       "      <td>83</td>\n",
       "      <td>0</td>\n",
       "      <td>0.578313</td>\n",
       "      <td>162368</td>\n",
       "    </tr>\n",
       "    <tr>\n",
       "      <th>5001711</th>\n",
       "      <td>-6</td>\n",
       "      <td>3</td>\n",
       "      <td>0</td>\n",
       "      <td>1</td>\n",
       "      <td>4</td>\n",
       "      <td>0</td>\n",
       "      <td>0.000000</td>\n",
       "      <td>162368</td>\n",
       "    </tr>\n",
       "    <tr>\n",
       "      <th>5001712</th>\n",
       "      <td>-171</td>\n",
       "      <td>10</td>\n",
       "      <td>9</td>\n",
       "      <td>0</td>\n",
       "      <td>19</td>\n",
       "      <td>0</td>\n",
       "      <td>0.473684</td>\n",
       "      <td>162368</td>\n",
       "    </tr>\n",
       "    <tr>\n",
       "      <th>5001713</th>\n",
       "      <td>-231</td>\n",
       "      <td>0</td>\n",
       "      <td>0</td>\n",
       "      <td>22</td>\n",
       "      <td>22</td>\n",
       "      <td>0</td>\n",
       "      <td>0.000000</td>\n",
       "      <td>150635</td>\n",
       "    </tr>\n",
       "    <tr>\n",
       "      <th>5001714</th>\n",
       "      <td>-105</td>\n",
       "      <td>0</td>\n",
       "      <td>0</td>\n",
       "      <td>15</td>\n",
       "      <td>15</td>\n",
       "      <td>0</td>\n",
       "      <td>0.000000</td>\n",
       "      <td>150635</td>\n",
       "    </tr>\n",
       "  </tbody>\n",
       "</table>\n",
       "</div>"
      ],
      "text/plain": [
       "              MONTHS_BALANCE  STATUS_0  STATUS_C  STATUS_X  BUREAU_BAL_COUNT  \\\n",
       "SK_ID_BUREAU                                                                   \n",
       "5001710                -3403         5        48        30                83   \n",
       "5001711                   -6         3         0         1                 4   \n",
       "5001712                 -171        10         9         0                19   \n",
       "5001713                 -231         0         0        22                22   \n",
       "5001714                 -105         0         0        15                15   \n",
       "\n",
       "              NOT_ZERO   C_RATIO  SK_ID_CURR  \n",
       "SK_ID_BUREAU                                  \n",
       "5001710              0  0.578313      162368  \n",
       "5001711              0  0.000000      162368  \n",
       "5001712              0  0.473684      162368  \n",
       "5001713              0  0.000000      150635  \n",
       "5001714              0  0.000000      150635  "
      ]
     },
     "execution_count": 13,
     "metadata": {},
     "output_type": "execute_result"
    }
   ],
   "source": [
    "df_bureau_bal_res.head()"
   ]
  },
  {
   "cell_type": "code",
   "execution_count": 14,
   "metadata": {},
   "outputs": [],
   "source": [
    "temp1= df_bureau_bal_res.groupby('SK_ID_CURR').mean()\n",
    "temp1.columns = temp1.columns.map(lambda x: x+'_MEAN')\n",
    "temp2 = df_bureau_bal_res.groupby('SK_ID_CURR').sum()\n",
    "temp2.columns = temp2.columns.map(lambda x: x+'_SUM')"
   ]
  },
  {
   "cell_type": "markdown",
   "metadata": {},
   "source": [
    "## bureau.csv"
   ]
  },
  {
   "cell_type": "code",
   "execution_count": 15,
   "metadata": {},
   "outputs": [],
   "source": [
    "df_bureau['CREDIT_ACTIVE'] = df_bureau['CREDIT_ACTIVE'].map(lambda x: 1 if x == 'Closed' else 0 if not pd.isnull(x) else x)"
   ]
  },
  {
   "cell_type": "code",
   "execution_count": 16,
   "metadata": {
    "scrolled": true
   },
   "outputs": [],
   "source": [
    "df_bureau['CREDIT_TYPE'] = df_bureau['CREDIT_TYPE'].map(lambda x: 'others' if x in ['Cash loan (non-earmarked)',\n",
    "                                                                                   'Real estate loan', 'Loan for the purchase of equipment',\n",
    "                                                                                   'Loan for purchase of shares (margin lending)','Unknown type of loan',\n",
    "                                                                                   'Mobile operator loan', 'Interbank credit', 'Another type of loan', \n",
    "                                                                                   'Loan for working capital replenishment'] else x)"
   ]
  },
  {
   "cell_type": "code",
   "execution_count": 17,
   "metadata": {},
   "outputs": [],
   "source": [
    "df_bureau = df_bureau.drop(columns = 'CREDIT_CURRENCY')"
   ]
  },
  {
   "cell_type": "code",
   "execution_count": 18,
   "metadata": {},
   "outputs": [],
   "source": [
    "df_bureau = df_bureau.drop(columns = 'CREDIT_DAY_OVERDUE')"
   ]
  },
  {
   "cell_type": "code",
   "execution_count": 19,
   "metadata": {},
   "outputs": [],
   "source": [
    "df_bureau = df_bureau.drop(columns = 'AMT_CREDIT_SUM_OVERDUE')"
   ]
  },
  {
   "cell_type": "code",
   "execution_count": 20,
   "metadata": {},
   "outputs": [],
   "source": [
    "df_bureau = df_bureau.drop(columns = 'AMT_ANNUITY')"
   ]
  },
  {
   "cell_type": "code",
   "execution_count": 21,
   "metadata": {},
   "outputs": [],
   "source": [
    "df_bureau = pd.get_dummies(df_bureau)"
   ]
  },
  {
   "cell_type": "code",
   "execution_count": 22,
   "metadata": {
    "scrolled": true
   },
   "outputs": [
    {
     "data": {
      "text/html": [
       "<div>\n",
       "<style scoped>\n",
       "    .dataframe tbody tr th:only-of-type {\n",
       "        vertical-align: middle;\n",
       "    }\n",
       "\n",
       "    .dataframe tbody tr th {\n",
       "        vertical-align: top;\n",
       "    }\n",
       "\n",
       "    .dataframe thead th {\n",
       "        text-align: right;\n",
       "    }\n",
       "</style>\n",
       "<table border=\"1\" class=\"dataframe\">\n",
       "  <thead>\n",
       "    <tr style=\"text-align: right;\">\n",
       "      <th></th>\n",
       "      <th>SK_ID_CURR</th>\n",
       "      <th>CREDIT_ACTIVE</th>\n",
       "      <th>DAYS_CREDIT</th>\n",
       "      <th>DAYS_CREDIT_ENDDATE</th>\n",
       "      <th>DAYS_ENDDATE_FACT</th>\n",
       "      <th>AMT_CREDIT_MAX_OVERDUE</th>\n",
       "      <th>CNT_CREDIT_PROLONG</th>\n",
       "      <th>AMT_CREDIT_SUM</th>\n",
       "      <th>AMT_CREDIT_SUM_DEBT</th>\n",
       "      <th>AMT_CREDIT_SUM_LIMIT</th>\n",
       "      <th>DAYS_CREDIT_UPDATE</th>\n",
       "      <th>CREDIT_TYPE_Car loan</th>\n",
       "      <th>CREDIT_TYPE_Consumer credit</th>\n",
       "      <th>CREDIT_TYPE_Credit card</th>\n",
       "      <th>CREDIT_TYPE_Loan for business development</th>\n",
       "      <th>CREDIT_TYPE_Microloan</th>\n",
       "      <th>CREDIT_TYPE_Mortgage</th>\n",
       "      <th>CREDIT_TYPE_others</th>\n",
       "    </tr>\n",
       "  </thead>\n",
       "  <tbody>\n",
       "    <tr>\n",
       "      <th>0</th>\n",
       "      <td>215354</td>\n",
       "      <td>1</td>\n",
       "      <td>-497</td>\n",
       "      <td>-153.0</td>\n",
       "      <td>-153.0</td>\n",
       "      <td>NaN</td>\n",
       "      <td>0</td>\n",
       "      <td>91323.0</td>\n",
       "      <td>0.0</td>\n",
       "      <td>NaN</td>\n",
       "      <td>-131</td>\n",
       "      <td>0</td>\n",
       "      <td>1</td>\n",
       "      <td>0</td>\n",
       "      <td>0</td>\n",
       "      <td>0</td>\n",
       "      <td>0</td>\n",
       "      <td>0</td>\n",
       "    </tr>\n",
       "    <tr>\n",
       "      <th>1</th>\n",
       "      <td>215354</td>\n",
       "      <td>0</td>\n",
       "      <td>-208</td>\n",
       "      <td>1075.0</td>\n",
       "      <td>NaN</td>\n",
       "      <td>NaN</td>\n",
       "      <td>0</td>\n",
       "      <td>225000.0</td>\n",
       "      <td>171342.0</td>\n",
       "      <td>NaN</td>\n",
       "      <td>-20</td>\n",
       "      <td>0</td>\n",
       "      <td>0</td>\n",
       "      <td>1</td>\n",
       "      <td>0</td>\n",
       "      <td>0</td>\n",
       "      <td>0</td>\n",
       "      <td>0</td>\n",
       "    </tr>\n",
       "    <tr>\n",
       "      <th>2</th>\n",
       "      <td>215354</td>\n",
       "      <td>0</td>\n",
       "      <td>-203</td>\n",
       "      <td>528.0</td>\n",
       "      <td>NaN</td>\n",
       "      <td>NaN</td>\n",
       "      <td>0</td>\n",
       "      <td>464323.5</td>\n",
       "      <td>NaN</td>\n",
       "      <td>NaN</td>\n",
       "      <td>-16</td>\n",
       "      <td>0</td>\n",
       "      <td>1</td>\n",
       "      <td>0</td>\n",
       "      <td>0</td>\n",
       "      <td>0</td>\n",
       "      <td>0</td>\n",
       "      <td>0</td>\n",
       "    </tr>\n",
       "    <tr>\n",
       "      <th>3</th>\n",
       "      <td>215354</td>\n",
       "      <td>0</td>\n",
       "      <td>-203</td>\n",
       "      <td>NaN</td>\n",
       "      <td>NaN</td>\n",
       "      <td>NaN</td>\n",
       "      <td>0</td>\n",
       "      <td>90000.0</td>\n",
       "      <td>NaN</td>\n",
       "      <td>NaN</td>\n",
       "      <td>-16</td>\n",
       "      <td>0</td>\n",
       "      <td>0</td>\n",
       "      <td>1</td>\n",
       "      <td>0</td>\n",
       "      <td>0</td>\n",
       "      <td>0</td>\n",
       "      <td>0</td>\n",
       "    </tr>\n",
       "    <tr>\n",
       "      <th>4</th>\n",
       "      <td>215354</td>\n",
       "      <td>0</td>\n",
       "      <td>-629</td>\n",
       "      <td>1197.0</td>\n",
       "      <td>NaN</td>\n",
       "      <td>77674.5</td>\n",
       "      <td>0</td>\n",
       "      <td>2700000.0</td>\n",
       "      <td>NaN</td>\n",
       "      <td>NaN</td>\n",
       "      <td>-21</td>\n",
       "      <td>0</td>\n",
       "      <td>1</td>\n",
       "      <td>0</td>\n",
       "      <td>0</td>\n",
       "      <td>0</td>\n",
       "      <td>0</td>\n",
       "      <td>0</td>\n",
       "    </tr>\n",
       "  </tbody>\n",
       "</table>\n",
       "</div>"
      ],
      "text/plain": [
       "   SK_ID_CURR  CREDIT_ACTIVE  DAYS_CREDIT  DAYS_CREDIT_ENDDATE  \\\n",
       "0      215354              1         -497               -153.0   \n",
       "1      215354              0         -208               1075.0   \n",
       "2      215354              0         -203                528.0   \n",
       "3      215354              0         -203                  NaN   \n",
       "4      215354              0         -629               1197.0   \n",
       "\n",
       "   DAYS_ENDDATE_FACT  AMT_CREDIT_MAX_OVERDUE  CNT_CREDIT_PROLONG  \\\n",
       "0             -153.0                     NaN                   0   \n",
       "1                NaN                     NaN                   0   \n",
       "2                NaN                     NaN                   0   \n",
       "3                NaN                     NaN                   0   \n",
       "4                NaN                 77674.5                   0   \n",
       "\n",
       "   AMT_CREDIT_SUM  AMT_CREDIT_SUM_DEBT  AMT_CREDIT_SUM_LIMIT  \\\n",
       "0         91323.0                  0.0                   NaN   \n",
       "1        225000.0             171342.0                   NaN   \n",
       "2        464323.5                  NaN                   NaN   \n",
       "3         90000.0                  NaN                   NaN   \n",
       "4       2700000.0                  NaN                   NaN   \n",
       "\n",
       "   DAYS_CREDIT_UPDATE  CREDIT_TYPE_Car loan  CREDIT_TYPE_Consumer credit  \\\n",
       "0                -131                     0                            1   \n",
       "1                 -20                     0                            0   \n",
       "2                 -16                     0                            1   \n",
       "3                 -16                     0                            0   \n",
       "4                 -21                     0                            1   \n",
       "\n",
       "   CREDIT_TYPE_Credit card  CREDIT_TYPE_Loan for business development  \\\n",
       "0                        0                                          0   \n",
       "1                        1                                          0   \n",
       "2                        0                                          0   \n",
       "3                        1                                          0   \n",
       "4                        0                                          0   \n",
       "\n",
       "   CREDIT_TYPE_Microloan  CREDIT_TYPE_Mortgage  CREDIT_TYPE_others  \n",
       "0                      0                     0                   0  \n",
       "1                      0                     0                   0  \n",
       "2                      0                     0                   0  \n",
       "3                      0                     0                   0  \n",
       "4                      0                     0                   0  "
      ]
     },
     "execution_count": 22,
     "metadata": {},
     "output_type": "execute_result"
    }
   ],
   "source": [
    "df_bureau = df_bureau.drop(columns = 'SK_ID_BUREAU')\n",
    "df_bureau.head()"
   ]
  },
  {
   "cell_type": "code",
   "execution_count": 23,
   "metadata": {},
   "outputs": [],
   "source": [
    "temp3 = df_bureau.groupby('SK_ID_CURR').mean()\n",
    "temp3.columns = temp3.columns.map(lambda x: x+'_MEAN')\n",
    "temp4 = df_bureau.groupby('SK_ID_CURR').sum()\n",
    "temp4.columns = temp4.columns.map(lambda x: x+'_SUM')\n"
   ]
  },
  {
   "cell_type": "markdown",
   "metadata": {},
   "source": [
    "## Bureau 和 Bureau_bal汇总"
   ]
  },
  {
   "cell_type": "code",
   "execution_count": 24,
   "metadata": {},
   "outputs": [],
   "source": [
    "df_train = pd.merge(left=df_y_train, right=temp1, how='left', left_on='SK_ID_CURR', right_index=True)\n",
    "df_train = pd.merge(left=df_train, right=temp2, how='left', left_on='SK_ID_CURR', right_index=True)\n",
    "df_train = pd.merge(left=df_train, right=temp3, how='left', left_on='SK_ID_CURR', right_index=True)\n",
    "df_train = pd.merge(left=df_train, right=temp4, how='left', left_on='SK_ID_CURR', right_index=True)\n"
   ]
  },
  {
   "cell_type": "code",
   "execution_count": 25,
   "metadata": {},
   "outputs": [],
   "source": [
    "df_test = pd.merge(left=df_y_test, right=temp1, how='left', left_on='SK_ID_CURR', right_index=True)\n",
    "df_test = pd.merge(left=df_test, right=temp2, how='left', left_on='SK_ID_CURR', right_index=True)\n",
    "df_test = pd.merge(left=df_test, right=temp3, how='left', left_on='SK_ID_CURR', right_index=True)\n",
    "df_test = pd.merge(left=df_test, right=temp4, how='left', left_on='SK_ID_CURR', right_index=True)\n"
   ]
  },
  {
   "cell_type": "code",
   "execution_count": 26,
   "metadata": {},
   "outputs": [
    {
     "name": "stdout",
     "output_type": "stream",
     "text": [
      "(307511, 50)\n",
      "(48744, 50)\n"
     ]
    }
   ],
   "source": [
    "print(df_train.shape)\n",
    "print(df_test.shape)"
   ]
  },
  {
   "cell_type": "code",
   "execution_count": 27,
   "metadata": {},
   "outputs": [],
   "source": [
    "TARGET = df_train['TARGET']"
   ]
  },
  {
   "cell_type": "code",
   "execution_count": 28,
   "metadata": {},
   "outputs": [],
   "source": [
    "drop_num = []"
   ]
  },
  {
   "cell_type": "code",
   "execution_count": 29,
   "metadata": {},
   "outputs": [],
   "source": [
    "\n",
    "def get_type(x):\n",
    "    if isinstance(x[0], str):\n",
    "        return 0\n",
    "    if len( np.unique(x[:400].dropna())) < 15:\n",
    "        return 0\n",
    "    else:\n",
    "        return 1\n",
    "    \n",
    "def plot(x):\n",
    "    global TARGET\n",
    "    _type = get_type(x)\n",
    "    if _type == 0:\n",
    "        discrete_plot(x, TARGET)\n",
    "    else:\n",
    "        continuous_plot(x, TARGET)\n",
    "    \n",
    "def discrete_plot(x, y):\n",
    "    temp = pd.concat((x, y), axis=1)\n",
    "    temp['value'] = 1\n",
    "    temp = temp.dropna()\n",
    "    temp.groupby(list(temp.columns)[:2]).sum().unstack().plot(kind='bar')\n",
    "    print(temp.groupby([temp.columns[0]])['TARGET'].mean())\n",
    "    print(temp.groupby([temp.columns[0]])['TARGET'].count())\n",
    "    \n",
    "def continuous_plot(x, y):\n",
    "    x = x.dropna()\n",
    "    sns.distplot(x.loc[y==0])\n",
    "    sns.distplot(x.loc[y==1])\n",
    "\n",
    "def mean_std(x):\n",
    "    return (x - np.mean(x)) / np.std(x)"
   ]
  },
  {
   "cell_type": "code",
   "execution_count": 30,
   "metadata": {},
   "outputs": [],
   "source": [
    "for col in df_train.columns[2:]:\n",
    "    mean = np.mean(df_train[col])\n",
    "    std = np.std(df_train[col])\n",
    "    df_train[col] = (df_train[col] - mean) / std\n",
    "    df_test[col] = (df_test[col] - mean) / std\n",
    "    "
   ]
  },
  {
   "cell_type": "code",
   "execution_count": 31,
   "metadata": {},
   "outputs": [],
   "source": [
    "df_train['MONTHS_BALANCE_MEAN_DUMMY'] = df_train['MONTHS_BALANCE_MEAN'].map(lambda x: \n",
    "                                                                                     1 if x > -0.6 else 0 if not pd.isnull(x) else x)\n",
    "df_test['MONTHS_BALANCE_MEAN_DUMMY'] = df_test['MONTHS_BALANCE_MEAN'].map(lambda x: \n",
    "                                                                                     1 if x > -0.6 else 0 if not pd.isnull(x) else x)"
   ]
  },
  {
   "cell_type": "code",
   "execution_count": 32,
   "metadata": {},
   "outputs": [],
   "source": [
    "df_train['STATUS_C_MEAN_DUMMY'] = df_train['STATUS_C_MEAN'].map(lambda x: \n",
    "                                                                                     1 if x > -0.3 else 0 if not pd.isnull(x) else x)\n",
    "df_test['STATUS_C_MEAN_DUMMY'] = df_test['STATUS_C_MEAN'].map(lambda x: \n",
    "                                                                                     1 if x > -0.3 else 0 if not pd.isnull(x) else x)"
   ]
  },
  {
   "cell_type": "code",
   "execution_count": 33,
   "metadata": {},
   "outputs": [],
   "source": [
    "df_train['BUREAU_BAL_COUNT_MEAN_DUMMY'] = df_train.iloc[:, 6].map(lambda x: 1  if x > -0.3 else 0 if not pd.isnull(x) else x)\n",
    "df_train['BUREAU_BAL_COUNT_MEAN_DUMMY'] = df_test.iloc[:, 6].map(lambda x: 1 if x > -0.3 else 0 if not pd.isnull(x) else x)\n"
   ]
  },
  {
   "cell_type": "code",
   "execution_count": 34,
   "metadata": {},
   "outputs": [],
   "source": [
    "df_train.iloc[:, 9] = df_train.iloc[:, 9].map(lambda x: -3 if x <= -3 else x)\n",
    "df_test.iloc[:, 9] = df_test.iloc[:, 9].map(lambda x: -3 if x <= -3 else x)\n"
   ]
  },
  {
   "cell_type": "code",
   "execution_count": 35,
   "metadata": {},
   "outputs": [],
   "source": [
    "df_train.iloc[:, 10] = df_train.iloc[:, 10].map(lambda x: 3 if x >=3 else x)\n",
    "df_test.iloc[:, 10] = df_test.iloc[:, 10].map(lambda x: 3 if x >= 3 else x)\n"
   ]
  },
  {
   "cell_type": "code",
   "execution_count": 36,
   "metadata": {},
   "outputs": [],
   "source": [
    "df_train.iloc[:, 11] = df_train.iloc[:, 11].map(lambda x: 2.5 if x >=2.5 else x)\n",
    "df_test.iloc[:, 11] = df_test.iloc[:, 11].map(lambda x: 2.5 if x >= 2.5 else x)"
   ]
  },
  {
   "cell_type": "code",
   "execution_count": 37,
   "metadata": {},
   "outputs": [],
   "source": [
    "df_train.iloc[:, 12] = df_train.iloc[:, 12].map(lambda x: 2 if x >=2 else x)\n",
    "df_test.iloc[:, 12] = df_test.iloc[:, 12].map(lambda x: 2 if x >= 2 else x)"
   ]
  },
  {
   "cell_type": "code",
   "execution_count": 38,
   "metadata": {},
   "outputs": [],
   "source": [
    "df_train.iloc[:, 13] = df_train.iloc[:, 13].map(lambda x: 2.5 if x >=2.5 else x)\n",
    "df_test.iloc[:, 13] = df_test.iloc[:, 13].map(lambda x: 2.5 if x >= 2.5 else x)"
   ]
  },
  {
   "cell_type": "code",
   "execution_count": 39,
   "metadata": {},
   "outputs": [],
   "source": [
    "df_train.iloc[:, 11] = df_train.iloc[:, 11].map(lambda x: 2.5 if x >=2.5 else x)\n",
    "df_test.iloc[:, 11] = df_test.iloc[:, 11].map(lambda x: 2.5 if x >= 2.5 else x)"
   ]
  },
  {
   "cell_type": "code",
   "execution_count": 40,
   "metadata": {
    "scrolled": true
   },
   "outputs": [],
   "source": [
    "df_train['NOT_ZERO_SUM_DUMMY'] = df_train['NOT_ZERO_SUM'].map(lambda x: '2' if x > 0.50 \n",
    "                                                              else '1' if x > -0.2 else '0' if not pd.isnull(x) else x)\n",
    "df_test['NOT_ZERO_SUM_DUMMY'] = df_test['NOT_ZERO_SUM'].map(lambda x: '2' if x > 0.50 \n",
    "                                                              else '1' if x > -0.2 else '0' if not pd.isnull(x) else x)"
   ]
  },
  {
   "cell_type": "code",
   "execution_count": 41,
   "metadata": {},
   "outputs": [],
   "source": [
    "df_train['CREDIT_ACTIVE_MEAN_DUMMY'] = df_train['CREDIT_ACTIVE_MEAN'].map(lambda x: \n",
    "                                                                          1 if x > -0.5 else 0 if not pd.isnull(x) else x)\n",
    "df_test['CREDIT_ACTIVE_MEAN_DUMMY'] = df_test['CREDIT_ACTIVE_MEAN'].map(lambda x: \n",
    "                                                                          1 if x > -0.5 else 0 if not pd.isnull(x) else x)"
   ]
  },
  {
   "cell_type": "code",
   "execution_count": 42,
   "metadata": {},
   "outputs": [],
   "source": [
    "df_train['DAYS_CREDIT_MEAN_DUMMY'] = df_train['DAYS_CREDIT_MEAN'].map(lambda x: \n",
    "                                                                         1 if x >= 0.4 else 0 if not pd.isnull(x) else x)\n",
    "df_test['DAYS_CREDIT_MEAN_DUMMY'] = df_test['DAYS_CREDIT_MEAN'].map(lambda x: \n",
    "                                                                          1 if x >= 0.4 else 0 if not pd.isnull(x) else x)"
   ]
  },
  {
   "cell_type": "code",
   "execution_count": 43,
   "metadata": {},
   "outputs": [],
   "source": [
    "df_train.iloc[:, 18] = df_train.iloc[:, 18].map(lambda x: 1 if x >=1 else 0 if not pd.isnull(x) else x)\n",
    "df_test.iloc[:, 18] = df_test.iloc[:, 18].map(lambda x: 1 if x >= 1 else 0 if not pd.isnull(x) else x)"
   ]
  },
  {
   "cell_type": "code",
   "execution_count": 44,
   "metadata": {},
   "outputs": [],
   "source": [
    "df_train.iloc[:, 19] = df_train.iloc[:, 19].map(lambda x: -3 if x <= -3 else x)\n",
    "df_test.iloc[:, 19] = df_test.iloc[:, 19].map(lambda x: -3 if x <= -3 else x)\n",
    "\n",
    "df_train['DAYS_ENDDATE_FACT_MEAN_DUMMY'] = df_train.iloc[:, 19].map(lambda x: 1 if x >0.4 else 0 if not pd.isnull(x) else x)\n",
    "df_test['DAYS_ENDDATE_FACT_MEAN_DUMMY'] = df_test.iloc[:, 19].map(lambda x: 1 if x >0.4 else 0 if not pd.isnull(x) else x)"
   ]
  },
  {
   "cell_type": "code",
   "execution_count": 45,
   "metadata": {},
   "outputs": [],
   "source": [
    "drop_num += [20, 21, 22, 23, 24, 26, 27, 28, 29, 30, 31, 32]"
   ]
  },
  {
   "cell_type": "code",
   "execution_count": 46,
   "metadata": {},
   "outputs": [],
   "source": [
    "df_train.iloc[:, 22] = df_train.iloc[:, 22].map(lambda x: -3 if x <= -3 else x)\n",
    "df_test.iloc[:, 22] = df_test.iloc[:, 22].map(lambda x: -3 if x <= -3 else x)\n",
    "\n",
    "df_train['DAYS_CREDIT_UPDATE_MEAN_DUMMY'] = df_train.iloc[:, 22].map(lambda x: 1 if x >0.4 else 0 if not pd.isnull(x) else x)\n",
    "df_test['DAYS_CREDIT_UPDATE_MEAN_DUMMY'] = df_test.iloc[:, 22].map(lambda x: 1 if x >0.4 else 0 if not pd.isnull(x) else x)"
   ]
  },
  {
   "cell_type": "code",
   "execution_count": 47,
   "metadata": {},
   "outputs": [],
   "source": [
    "df_train.iloc[:, 34] = df_train.iloc[:, 34].map(lambda x: -3 if x <= -3 else x)\n",
    "df_test.iloc[:, 34] = df_test.iloc[:, 34].map(lambda x: -3 if x <= -3 else x)\n",
    "\n",
    "df_train['DAYS_CREDIT_UPDATE_MEAN_DUMMY'] = df_train.iloc[:, 34].map(lambda x: 1 if x >0.4 else 0 if not pd.isnull(x) else x)\n",
    "df_test['DAYS_CREDIT_UPDATE_MEAN_DUMMY'] = df_test.iloc[:, 34].map(lambda x: 1 if x >0.4 else 0 if not pd.isnull(x) else x)"
   ]
  },
  {
   "cell_type": "code",
   "execution_count": 48,
   "metadata": {},
   "outputs": [],
   "source": [
    "df_train.iloc[:, 35] = df_train.iloc[:, 35].map(lambda x: -1 if x <= -1 else 3 if x >= 3 else x)\n",
    "df_test.iloc[:, 35] = df_test.iloc[:, 35].map(lambda x: -1 if x <= -1 else 3 if x >= 3 else x)\n"
   ]
  },
  {
   "cell_type": "code",
   "execution_count": 49,
   "metadata": {},
   "outputs": [],
   "source": [
    "df_train.iloc[:, 36] = df_train.iloc[:, 36].map(lambda x: -1.5 if x <= -1.5 else x)\n",
    "df_test.iloc[:, 36] = df_test.iloc[:, 36].map(lambda x: -1.5 if x <= -1.5 else x)\n"
   ]
  },
  {
   "cell_type": "code",
   "execution_count": 50,
   "metadata": {},
   "outputs": [],
   "source": [
    "drop_num.append(37)"
   ]
  },
  {
   "cell_type": "code",
   "execution_count": 51,
   "metadata": {},
   "outputs": [],
   "source": [
    "df_train.iloc[:, 38] = df_train.iloc[:, 38].map(lambda x: 1 if x < 0 else 0 if not pd.isnull(x) else x)\n",
    "df_test.iloc[:, 38] = df_test.iloc[:, 38].map(lambda x: 1 if x < 0 else 0 if not pd.isnull(x) else x)\n"
   ]
  },
  {
   "cell_type": "code",
   "execution_count": 52,
   "metadata": {},
   "outputs": [],
   "source": [
    "drop_num+=[39, 40, 41, 42, 46, 49]"
   ]
  },
  {
   "cell_type": "code",
   "execution_count": 53,
   "metadata": {},
   "outputs": [],
   "source": [
    "df_train.iloc[:, 43] = df_train.iloc[:, 43].map(lambda x: 1 if x < 0 else 0 if not pd.isnull(x) else x)\n",
    "df_test.iloc[:, 43] = df_test.iloc[:, 43].map(lambda x: 1 if x < 0 else 0 if not pd.isnull(x) else x)"
   ]
  },
  {
   "cell_type": "code",
   "execution_count": 54,
   "metadata": {},
   "outputs": [],
   "source": [
    "df_train['CREDIT_TYPE_Credit card_SUM_DUMMY1'] = df_train.iloc[:, 45].map(lambda x: 1 if x < -0.5 else 0  if not pd.isnull(x) else x)\n",
    "df_test['CREDIT_TYPE_Credit card_SUM_DUMMY1'] = df_test.iloc[:, 45].map(lambda x: 1 if x < -0.5 else 0 if not pd.isnull(x) else x)\n",
    "\n",
    "df_train['CREDIT_TYPE_Credit card_SUM_DUMMY2'] = df_train.iloc[:, 45].map(lambda x: 1 if -0.5 < x < 0 else 0  if not pd.isnull(x) else x)\n",
    "df_test['CREDIT_TYPE_Credit card_SUM_DUMMY2'] = df_test.iloc[:, 45].map(lambda x: 1 if -0.5 < x < 0 else 0 if not pd.isnull(x) else x)\n",
    "\n",
    "df_train['CREDIT_TYPE_Credit card_SUM_DUMMY3'] = df_train.iloc[:, 45].map(lambda x: 1 if x >= 0 else 0  if not pd.isnull(x) else x)\n",
    "df_test['CREDIT_TYPE_Credit card_SUM_DUMMY3'] = df_test.iloc[:, 45].map(lambda x: 1 if x >=0 else 0 if not pd.isnull(x) else x)"
   ]
  },
  {
   "cell_type": "code",
   "execution_count": 55,
   "metadata": {},
   "outputs": [],
   "source": [
    "df_train.iloc[:, 47] = df_train.iloc[:, 47].map(lambda x: 1 if x < 0 else 0 if not pd.isnull(x) else x)\n",
    "df_test.iloc[:, 47] = df_test.iloc[:, 47].map(lambda x: 1 if x < 0 else 0 if not pd.isnull(x) else x)\n"
   ]
  },
  {
   "cell_type": "code",
   "execution_count": 56,
   "metadata": {},
   "outputs": [],
   "source": [
    "df_train.iloc[:, 48] = df_train.iloc[:, 48].map(lambda x: 1 if x < 0 else 0 if not pd.isnull(x) else x)\n",
    "df_test.iloc[:, 48] = df_test.iloc[:, 48].map(lambda x: 1 if x < 0 else 0 if not pd.isnull(x) else x)\n"
   ]
  },
  {
   "cell_type": "code",
   "execution_count": 57,
   "metadata": {},
   "outputs": [],
   "source": [
    "temp_value = df_train.iloc[:, 45].value_counts().keys()\n",
    "dic = dict(list(zip(list(temp_value), list(range(len(temp_value))))))\n",
    "df_train.iloc[:, 45] = df_train.iloc[:, 45].map(dic)\n",
    "\n",
    "temp_value = df_test.iloc[:, 45].value_counts().keys()\n",
    "dic = dict(list(zip(list(temp_value), list(range(len(temp_value))))))\n",
    "df_test.iloc[:, 45] = df_test.iloc[:, 45].map(dic)"
   ]
  },
  {
   "cell_type": "code",
   "execution_count": 58,
   "metadata": {},
   "outputs": [],
   "source": [
    "df_train.iloc[:, 45] = df_train.iloc[:, 45].map(lambda x: str(int(x)) if x < 5 else '5' if not pd.isnull(x) else x)\n",
    "df_test.iloc[:, 45] = df_test.iloc[:, 45].map(lambda x: str(int(x)) if x < 5 else '5' if not pd.isnull(x) else x)"
   ]
  },
  {
   "cell_type": "code",
   "execution_count": 59,
   "metadata": {},
   "outputs": [],
   "source": [
    "df_train = df_train.drop(columns=df_train.columns[drop_num])\n",
    "df_test = df_test.drop(columns=df_test.columns[drop_num])"
   ]
  },
  {
   "cell_type": "code",
   "execution_count": 60,
   "metadata": {},
   "outputs": [],
   "source": [
    "df_train.to_csv('../data/handled/bureau_train.csv')"
   ]
  },
  {
   "cell_type": "code",
   "execution_count": 61,
   "metadata": {},
   "outputs": [],
   "source": [
    "df_test.to_csv('../data/handled/bureau_test.csv')"
   ]
  }
 ],
 "metadata": {
  "kernelspec": {
   "display_name": "Python 3",
   "language": "python",
   "name": "python3"
  },
  "language_info": {
   "codemirror_mode": {
    "name": "ipython",
    "version": 3
   },
   "file_extension": ".py",
   "mimetype": "text/x-python",
   "name": "python",
   "nbconvert_exporter": "python",
   "pygments_lexer": "ipython3",
   "version": "3.6.4"
  }
 },
 "nbformat": 4,
 "nbformat_minor": 2
}
