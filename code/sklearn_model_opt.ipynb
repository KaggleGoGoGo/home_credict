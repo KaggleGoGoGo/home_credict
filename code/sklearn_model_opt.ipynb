{
 "cells": [
  {
   "cell_type": "markdown",
   "metadata": {},
   "source": [
    "# 测试各种sklearn模型，用以模型融合\n",
    "\n",
    "\n"
   ]
  },
  {
   "cell_type": "code",
   "execution_count": 3,
   "metadata": {},
   "outputs": [],
   "source": [
    "import numpy as np\n",
    "import pandas as pd\n",
    "import matplotlib.pyplot as plt\n",
    "from sklearn.model_selection import train_test_split\n",
    "from sklearn.pipeline import Pipeline\n",
    "from sklearn.preprocessing import Imputer\n",
    "from sklearn.preprocessing import StandardScaler\n",
    "from sklearn.feature_selection import SelectFromModel\n",
    "from sklearn.tree import DecisionTreeClassifier\n",
    "from sklearn.linear_model import LogisticRegression\n",
    "from sklearn.metrics import auc, roc_curve, roc_auc_score\n",
    "from sklearn.naive_bayes import GaussianNB\n",
    "from sklearn.ensemble import GradientBoostingClassifier, RandomForestClassifier, ExtraTreesClassifier\n",
    "from bayes_opt import BayesianOptimization\n",
    "from sklearn.cross_validation import cross_val_score\n",
    "from sklearn.ensemble import RandomForestClassifier\n",
    "from sklearn.linear_model import LassoCV\n",
    "import gc\n",
    "from xgboost.sklearn import XGBClassifier\n",
    "import xgboost as xgb\n",
    "import lightgbm as lgb\n"
   ]
  },
  {
   "cell_type": "code",
   "execution_count": 12,
   "metadata": {},
   "outputs": [],
   "source": [
    "\n",
    "def data_prepare(num=None):\n",
    "    train = pd.read_csv('../data/handled/train.csv', nrows=num, index_col=0)\n",
    "    test = pd.read_csv('../data/handled/test.csv', nrows=num, index_col=0)\n",
    "    y_train = pd.read_csv('../data/handled/y_train.csv', nrows=num, header=-1, index_col=0)\n",
    "    return train, test, y_train.values.ravel()\n",
    "\n",
    "def imput_by_mean(train, test):\n",
    "    im = Imputer()\n",
    "    train = im.fit_transform(train)\n",
    "    test = im.transform(test)\n",
    "    return train, test\n",
    "\n",
    "def read_importance():\n",
    "    with open('./importance.txt', 'r') as f:\n",
    "        imp = f.readline()\n",
    "    imp = np.array([float(i) for i in imp.split(\",\")])\n",
    "    return imp\n",
    "\n",
    "def get_select_ids(importance, top_num=None):\n",
    "    if top_num:\n",
    "        threshold = np.sort(importance)[-top_num-1]\n",
    "    else:\n",
    "        threshold = 0\n",
    "    select_id = [True if i > threshold else False for i in importance]\n",
    "    return select_id"
   ]
  },
  {
   "cell_type": "code",
   "execution_count": 8,
   "metadata": {},
   "outputs": [],
   "source": [
    "df_train, df_test, y_train = data_prepare()\n",
    "train, test = imput_by_mean(df_train.values, df_test.values)\n",
    "imp = read_importance()"
   ]
  },
  {
   "cell_type": "markdown",
   "metadata": {},
   "source": [
    "# Random Forest"
   ]
  },
  {
   "cell_type": "code",
   "execution_count": 9,
   "metadata": {},
   "outputs": [],
   "source": [
    "def get_rf_result(n_estimators, \n",
    "                  max_depth, \n",
    "                  min_samples_split, \n",
    "                  min_samples_leaf, \n",
    "                  max_leaf_nodes,\n",
    "                 ):\n",
    "    global train, y_train\n",
    "    rf = RandomForestClassifier(n_estimators=int(n_estimators),\n",
    "                                max_depth = max(0, int(max_depth)),\n",
    "                                min_samples_split = max(0, int(min_samples_split)),\n",
    "                                min_samples_leaf = max(0, int(min_samples_leaf)),\n",
    "                                max_leaf_nodes = max(0, int(max_leaf_nodes))\n",
    "                               )\n",
    "    return np.mean(cross_val_score(rf, train, y_train, cv=5, scoring='roc_auc'))\n",
    "\n"
   ]
  },
  {
   "cell_type": "code",
   "execution_count": 13,
   "metadata": {},
   "outputs": [],
   "source": [
    "rfBO = BayesianOptimization(get_rf_result,\n",
    "        {'n_estimators': (10, 500), \n",
    "         'max_depth': (5, 20),\n",
    "         'min_samples_split': (5, 100),\n",
    "         'min_samples_leaf': (5, 100),\n",
    "         'max_leaf_nodes' : (5, 100)\n",
    "        })\n",
    "\n",
    "rfBO.maximize(init_points=5, n_iter=30)"
   ]
  },
  {
   "cell_type": "code",
   "execution_count": null,
   "metadata": {},
   "outputs": [],
   "source": [
    "RandomForestClassifier(n_estimators=19,\n",
    "                                max_depth = 99,\n",
    "                                min_samples_split = 100,\n",
    "                                min_samples_leaf =21,\n",
    "                                max_leaf_nodes = 390)"
   ]
  },
  {
   "cell_type": "markdown",
   "metadata": {},
   "source": [
    "# CART"
   ]
  },
  {
   "cell_type": "code",
   "execution_count": null,
   "metadata": {},
   "outputs": [],
   "source": [
    "def get_cls_result(\n",
    "                  max_depth, \n",
    "                  min_samples_split, \n",
    "                  min_samples_leaf, \n",
    "                  max_leaf_nodes,\n",
    "                 ):\n",
    "    global train, y_train, imp\n",
    "    cls = DecisionTreeClassifier(\n",
    "                                max_depth = max(0, int(max_depth)),\n",
    "                                min_samples_split = max(0, int(min_samples_split)),\n",
    "                                min_samples_leaf = max(0, int(min_samples_leaf)),\n",
    "                                max_leaf_nodes = max(0, int(max_leaf_nodes)),\n",
    "                                random_state = 918\n",
    "                               )\n",
    "    return np.mean(cross_val_score(cls, train[:, get_select_ids(imp, 50)], y_train, cv=5, scoring='roc_auc'))\n",
    "\n",
    "BO = BayesianOptimization(get_cls_result,\n",
    "        {\n",
    "         'max_depth': (5, 20),\n",
    "         'min_samples_split': (5, 100),\n",
    "         'min_samples_leaf': (5, 100),\n",
    "         'max_leaf_nodes' : (5, 100)\n",
    "        })\n",
    "\n",
    "BO.maximize(init_points=5, n_iter=30)"
   ]
  },
  {
   "cell_type": "code",
   "execution_count": null,
   "metadata": {},
   "outputs": [],
   "source": [
    "def get_cls_result2(\n",
    "                  max_depth, \n",
    "                  min_samples_split, \n",
    "                  min_samples_leaf, \n",
    "                  max_leaf_nodes,\n",
    "                 ):\n",
    "    global train, y_train, imp\n",
    "    cls = DecisionTreeClassifier(criterion='entropy',\n",
    "                                max_depth = max(0, int(max_depth)),\n",
    "                                min_samples_split = max(0, int(min_samples_split)),\n",
    "                                min_samples_leaf = max(0, int(min_samples_leaf)),\n",
    "                                max_leaf_nodes = max(0, int(max_leaf_nodes)),\n",
    "                                random_state = 918\n",
    "                               )\n",
    "    return np.mean(cross_val_score(cls, train[:, get_select_ids(imp, 50)], y_train, cv=5, scoring='roc_auc'))\n",
    "\n"
   ]
  },
  {
   "cell_type": "code",
   "execution_count": null,
   "metadata": {},
   "outputs": [],
   "source": [
    "BO = BayesianOptimization(get_cls_result2,\n",
    "        {\n",
    "         'max_depth': (5, 20),\n",
    "         'min_samples_split': (5, 100),\n",
    "         'min_samples_leaf': (5, 100),\n",
    "         'max_leaf_nodes' : (5, 100)\n",
    "        })\n",
    "\n",
    "BO.maximize(init_points=5, n_iter=30)"
   ]
  },
  {
   "cell_type": "code",
   "execution_count": null,
   "metadata": {},
   "outputs": [],
   "source": [
    "DecisionTreeClassifier(max_depth=9, max_leaf_nodes= 92, min_samples_leaf=98, min_samples_split=26)"
   ]
  },
  {
   "cell_type": "code",
   "execution_count": null,
   "metadata": {},
   "outputs": [],
   "source": []
  },
  {
   "cell_type": "markdown",
   "metadata": {},
   "source": [
    "# Extra Tree"
   ]
  },
  {
   "cell_type": "code",
   "execution_count": null,
   "metadata": {},
   "outputs": [],
   "source": [
    "def get_cls_result(n_estimators, \n",
    "                  max_depth, \n",
    "                  min_samples_split, \n",
    "                  min_samples_leaf, \n",
    "                  max_leaf_nodes,\n",
    "                 ):\n",
    "    global train, y_train\n",
    "    cls = ExtraTreesClassifier(n_estimators=int(n_estimators),\n",
    "                                max_depth = max(0, int(max_depth)),\n",
    "                                min_samples_split = max(0, int(min_samples_split)),\n",
    "                                min_samples_leaf = max(0, int(min_samples_leaf)),\n",
    "                                max_leaf_nodes = max(0, int(max_leaf_nodes)),\n",
    "                                random_state = 918\n",
    "                               )\n",
    "    return np.mean(cross_val_score(cls, train[:, get_select_ids(imp, 10)], y_train, cv=5, scoring='roc_auc'))\n",
    "\n",
    "\n",
    "BO = BayesianOptimization(get_cls_result,\n",
    "        {'n_estimators': (10, 500), \n",
    "         'max_depth': (5, 20),\n",
    "         'min_samples_split': (5, 100),\n",
    "         'min_samples_leaf': (5, 100),\n",
    "         'max_leaf_nodes' : (5, 100)\n",
    "        })\n",
    "\n",
    "BO.maximize(init_points=5, n_iter=30)"
   ]
  },
  {
   "cell_type": "code",
   "execution_count": null,
   "metadata": {},
   "outputs": [],
   "source": [
    "ExtraTreesClassifier(max_depth=20, max_leaf_nodes = 93,min_samples_leaf=81, min_samples_split=5, n_estimators = 248)"
   ]
  },
  {
   "cell_type": "code",
   "execution_count": null,
   "metadata": {},
   "outputs": [],
   "source": []
  }
 ],
 "metadata": {
  "kernelspec": {
   "display_name": "Python 3",
   "language": "python",
   "name": "python3"
  },
  "language_info": {
   "codemirror_mode": {
    "name": "ipython",
    "version": 3
   },
   "file_extension": ".py",
   "mimetype": "text/x-python",
   "name": "python",
   "nbconvert_exporter": "python",
   "pygments_lexer": "ipython3",
   "version": "3.6.5"
  }
 },
 "nbformat": 4,
 "nbformat_minor": 2
}
