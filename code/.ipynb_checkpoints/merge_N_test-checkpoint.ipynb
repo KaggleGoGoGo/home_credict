{
 "cells": [
  {
   "cell_type": "code",
   "execution_count": 65,
   "metadata": {},
   "outputs": [],
   "source": [
    "import numpy as np\n",
    "import pandas as pd\n",
    "from sklearn.model_selection import train_test_split\n",
    "from sklearn.pipeline import Pipeline\n",
    "from sklearn.preprocessing import Imputer\n",
    "from sklearn.preprocessing import StandardScaler\n",
    "from sklearn.feature_selection import SelectFromModel\n",
    "from sklearn.linear_model import LogisticRegression\n",
    "from sklearn.metrics import auc, roc_curve, roc_auc_score\n",
    "from sklearn.ensemble import GradientBoostingClassifier\n",
    "from bayes_opt import BayesianOptimization\n",
    "from sklearn.cross_validation import cross_val_score\n",
    "from sklearn.ensemble import RandomForestClassifier"
   ]
  },
  {
   "cell_type": "code",
   "execution_count": 66,
   "metadata": {},
   "outputs": [],
   "source": [
    "df_main_train = pd.read_csv('../data/handled/main_train.csv', index_col=0)\n",
    "df_main_test = pd.read_csv('../data/handled/main_test.csv', index_col=0)\n",
    "\n",
    "df_bureau_train = pd.read_csv('../data/handled/bureau_train.csv', index_col=0)\n",
    "df_bureau_test = pd.read_csv('../data/handled/bureau_test.csv', index_col=0)"
   ]
  },
  {
   "cell_type": "code",
   "execution_count": 67,
   "metadata": {},
   "outputs": [],
   "source": [
    "df_bureau_test.index = df_bureau_test.SK_ID_CURR\n",
    "df_bureau_train.index = df_bureau_train.SK_ID_CURR"
   ]
  },
  {
   "cell_type": "code",
   "execution_count": 68,
   "metadata": {},
   "outputs": [],
   "source": [
    "df_bureau_train = df_bureau_train.drop(columns='SK_ID_CURR')\n",
    "df_bureau_test = df_bureau_test.drop(columns='SK_ID_CURR')"
   ]
  },
  {
   "cell_type": "code",
   "execution_count": 69,
   "metadata": {},
   "outputs": [],
   "source": [
    "y_train = df_main_train.TARGET\n",
    "\n",
    "df_main_train = df_main_train.drop(columns='TARGET')\n",
    "#df_main_test = df_main_test.drop(columns='TARGET')\n",
    "df_bureau_train = df_bureau_train.drop(columns='TARGET')\n",
    "df_bureau_test = df_bureau_test.drop(columns='TARGET')"
   ]
  },
  {
   "cell_type": "code",
   "execution_count": 70,
   "metadata": {},
   "outputs": [],
   "source": [
    "df_train = pd.merge(df_main_train, df_bureau_train, left_index=True, right_index=True)\n",
    "df_test = pd.merge(df_main_test, df_bureau_test, left_index=True, right_index=True)"
   ]
  },
  {
   "cell_type": "code",
   "execution_count": 71,
   "metadata": {},
   "outputs": [],
   "source": [
    "df_train = pd.get_dummies(df_train, dummy_na=True)\n",
    "df_test = pd.get_dummies(df_test, dummy_na=True)"
   ]
  },
  {
   "cell_type": "code",
   "execution_count": 72,
   "metadata": {},
   "outputs": [],
   "source": [
    "df_train, df_test = df_train.align(df_test, join='left', fill_value=0, axis=1)"
   ]
  },
  {
   "cell_type": "code",
   "execution_count": 73,
   "metadata": {},
   "outputs": [],
   "source": [
    "df_train = df_train.drop(columns='SK_ID_CURR.1')\n",
    "df_test = df_test.drop(columns='SK_ID_CURR.1')"
   ]
  },
  {
   "cell_type": "code",
   "execution_count": 76,
   "metadata": {},
   "outputs": [],
   "source": [
    "im = Imputer()\n",
    "im.fit(df_train)\n",
    "train = im.transform(df_train)\n",
    "test = im.transform(df_test)"
   ]
  },
  {
   "cell_type": "code",
   "execution_count": 77,
   "metadata": {},
   "outputs": [],
   "source": [
    "lr = LogisticRegression()\n",
    "lr.fit(train, y_train)\n",
    "res = lr.predict_proba(test)"
   ]
  },
  {
   "cell_type": "code",
   "execution_count": 12,
   "metadata": {},
   "outputs": [],
   "source": [
    "test_id = df_bureau_test.index"
   ]
  },
  {
   "cell_type": "code",
   "execution_count": 13,
   "metadata": {},
   "outputs": [],
   "source": [
    "def output(test_id, test_prob, sid=0):\n",
    "    result = pd.DataFrame(np.column_stack((test_id, test_prob)))\n",
    "    result.columns = ['SK_ID_CURR', 'TARGET']\n",
    "    result['SK_ID_CURR'] = result['SK_ID_CURR'].astype('int')\n",
    "    result.to_csv('submission' + str(sid) + '.csv', header=True, index=False)"
   ]
  },
  {
   "cell_type": "code",
   "execution_count": 14,
   "metadata": {},
   "outputs": [],
   "source": [
    "output(test_id, res[:, 1], sid='_add_bureau')"
   ]
  },
  {
   "cell_type": "code",
   "execution_count": null,
   "metadata": {},
   "outputs": [],
   "source": []
  },
  {
   "cell_type": "markdown",
   "metadata": {},
   "source": [
    "## GBDT test"
   ]
  },
  {
   "cell_type": "code",
   "execution_count": 60,
   "metadata": {},
   "outputs": [],
   "source": [
    "def cross_val(est, x, y, support=None):\n",
    "    x_train, x_test, y_train, y_test = train_test_split(x, y, test_size=0.3)\n",
    "    #sfm = SelectFromModel(LogisticRegression(penalty='l1'), 0.02)\n",
    "    #sfm.fit(x_train, y_train)\n",
    "    if support:\n",
    "        x_train = x_train[:, support]\n",
    "        x_test = x_test[:, support]\n",
    "    \n",
    "    est.fit(x_train, y_train)\n",
    "    y_predict = est.predict_proba(x_test)\n",
    "    auc_score = get_auc_score(y_test, y_predict[:, 1])\n",
    "    return auc_score\n",
    "\n",
    "\n",
    "def get_auc_score(y_true, y_predict_proba):\n",
    "    f, t, _ = roc_curve(y_true, y_predict_proba, pos_label=1)\n",
    "    return auc(f, t)\n",
    "    "
   ]
  },
  {
   "cell_type": "markdown",
   "metadata": {},
   "source": [
    "### 特征选择"
   ]
  },
  {
   "cell_type": "code",
   "execution_count": 16,
   "metadata": {},
   "outputs": [],
   "source": [
    "sfm = SelectFromModel(LogisticRegression(penalty='l1'), 0.2)"
   ]
  },
  {
   "cell_type": "code",
   "execution_count": 17,
   "metadata": {},
   "outputs": [
    {
     "data": {
      "text/plain": [
       "SelectFromModel(estimator=LogisticRegression(C=1.0, class_weight=None, dual=False, fit_intercept=True,\n",
       "          intercept_scaling=1, max_iter=100, multi_class='ovr', n_jobs=1,\n",
       "          penalty='l1', random_state=None, solver='liblinear', tol=0.0001,\n",
       "          verbose=0, warm_start=False),\n",
       "        norm_order=1, prefit=False, threshold=0.2)"
      ]
     },
     "execution_count": 17,
     "metadata": {},
     "output_type": "execute_result"
    }
   ],
   "source": [
    "sfm.fit(train, y_train)"
   ]
  },
  {
   "cell_type": "code",
   "execution_count": 18,
   "metadata": {},
   "outputs": [
    {
     "data": {
      "text/plain": [
       "55"
      ]
     },
     "execution_count": 18,
     "metadata": {},
     "output_type": "execute_result"
    }
   ],
   "source": [
    "sfm.get_support().sum()"
   ]
  },
  {
   "cell_type": "markdown",
   "metadata": {},
   "source": [
    "### 相关系数和sfm同时进行特征选择\n"
   ]
  },
  {
   "cell_type": "code",
   "execution_count": 37,
   "metadata": {},
   "outputs": [
    {
     "data": {
      "text/plain": [
       "0.019187133596327993"
      ]
     },
     "execution_count": 37,
     "metadata": {},
     "output_type": "execute_result"
    }
   ],
   "source": [
    "a = pd.DataFrame(np.column_stack((train.T[0], y_train)))\n",
    "a.corr().values[0, 1]"
   ]
  },
  {
   "cell_type": "code",
   "execution_count": 38,
   "metadata": {},
   "outputs": [],
   "source": [
    "def corr(x, y):\n",
    "    df = pd.DataFrame(np.column_stack((x, y)))\n",
    "    df = df.dropna()\n",
    "    return df.corr().values[0, 1]\n",
    "\n",
    "corr = list(map(lambda x: corr(x, y_train), train.T))"
   ]
  },
  {
   "cell_type": "markdown",
   "metadata": {},
   "source": [
    "## XGBoost测试"
   ]
  },
  {
   "cell_type": "code",
   "execution_count": 42,
   "metadata": {},
   "outputs": [],
   "source": [
    "from xgboost.sklearn import XGBClassifier\n"
   ]
  },
  {
   "cell_type": "code",
   "execution_count": 95,
   "metadata": {},
   "outputs": [],
   "source": [
    "xgb_model = XGBClassifier()"
   ]
  },
  {
   "cell_type": "code",
   "execution_count": 97,
   "metadata": {},
   "outputs": [
    {
     "data": {
      "text/plain": [
       "0.7530502060786818"
      ]
     },
     "execution_count": 97,
     "metadata": {},
     "output_type": "execute_result"
    }
   ],
   "source": [
    "cross_val(xgb_model, train, y_train)"
   ]
  },
  {
   "cell_type": "code",
   "execution_count": 98,
   "metadata": {},
   "outputs": [],
   "source": [
    "res = pd.DataFrame(np.column_stack((df_train.columns, xgb_model.feature_importances_)))\n",
    "res = res.loc[res[1] !=0]\n",
    "#res.sort_values(by=1, ascending=False)"
   ]
  },
  {
   "cell_type": "code",
   "execution_count": 99,
   "metadata": {},
   "outputs": [],
   "source": [
    "support_vec = xgb_model.feature_importances_ != 0"
   ]
  },
  {
   "cell_type": "markdown",
   "metadata": {},
   "source": [
    "## XGBoost 贝叶斯调参"
   ]
  },
  {
   "cell_type": "code",
   "execution_count": 124,
   "metadata": {},
   "outputs": [],
   "source": [
    "from bayes_opt import BayesianOptimization\n",
    "import xgboost as xgb\n",
    "\n",
    "def xgb_evaluate(eta,\n",
    "                            min_child_weight,\n",
    "                            cosample_bytree,\n",
    "                            max_depth,\n",
    "                            subsample,\n",
    "                            gamma,\n",
    "                            alpha):\n",
    "    global params, xgb, xgtrain, num_rounds, random_state\n",
    "    params['eta'] = max(eta, 0)\n",
    "    params['min_child_weight'] = int(min_child_weight)\n",
    "    params['cosample_bytree'] = max(min(cosample_bytree, 1), 0)\n",
    "    params['max_depth'] = int(max_depth)\n",
    "    params['subsample'] = max(min(subsample, 1), 0)\n",
    "    params['min_child_weight'] = int(min_child_weight)\n",
    "    params['gamma'] = max(gamma, 0)\n",
    "    params['alpha'] = max(alpha, 0)\n",
    "    \n",
    "    cv = xgb.cv(params, xgtrain, num_boost_round=num_rounds, metrics='auc', early_stopping_rounds=50,\n",
    "                nfold=5, seed=random_state, callbacks=[xgb.callback.early_stop(50)])\n",
    "    return cv['test-auc-mean'].values[-1]\n",
    "    \n"
   ]
  },
  {
   "cell_type": "code",
   "execution_count": 127,
   "metadata": {},
   "outputs": [],
   "source": [
    "xgtrain = xgb.DMatrix(train[:, support_vec], label=y_train)"
   ]
  },
  {
   "cell_type": "code",
   "execution_count": null,
   "metadata": {},
   "outputs": [
    {
     "name": "stdout",
     "output_type": "stream",
     "text": [
      "\u001b[31mInitialization\u001b[0m\n",
      "\u001b[94m--------------------------------------------------------------------------------------------------------------------------------------\u001b[0m\n",
      " Step |   Time |      Value |     alpha |   cosample_bytree |       eta |     gamma |   max_depth |   min_child_weight |   subsample | \n",
      "Multiple eval metrics have been passed: 'test-auc' will be used for early stopping.\n",
      "\n",
      "Will train until test-auc hasn't improved in 50 rounds.\n",
      "Stopping. Best iteration:\n",
      "[696]\ttrain-auc:0.761426+0.00127904\ttest-auc:0.75355+0.00340667\n",
      "\n",
      "    1 | 29m46s | \u001b[35m   0.75355\u001b[0m | \u001b[32m   7.5220\u001b[0m | \u001b[32m           0.9244\u001b[0m | \u001b[32m   0.2803\u001b[0m | \u001b[32m   2.5626\u001b[0m | \u001b[32m     7.3636\u001b[0m | \u001b[32m           15.9469\u001b[0m | \u001b[32m     0.5370\u001b[0m | \n",
      "Multiple eval metrics have been passed: 'test-auc' will be used for early stopping.\n",
      "\n",
      "Will train until test-auc hasn't improved in 50 rounds.\n",
      "Stopping. Best iteration:\n",
      "[262]\ttrain-auc:0.762515+0.000899799\ttest-auc:0.75073+0.00339422\n",
      "\n",
      "    2 | 19m46s |    0.75073 |    4.4726 |            0.6821 |    0.4361 |    3.0286 |     11.3313 |            14.2157 |      0.7941 | \n",
      "Multiple eval metrics have been passed: 'test-auc' will be used for early stopping.\n",
      "\n",
      "Will train until test-auc hasn't improved in 50 rounds.\n",
      "Stopping. Best iteration:\n",
      "[434]\ttrain-auc:0.76443+0.00114953\ttest-auc:0.750439+0.00329701\n",
      "\n",
      "    3 | 31m12s |    0.75044 |    0.0127 |            0.9450 |    0.3438 |    3.8019 |     11.2825 |             3.7698 |      0.5080 | \n",
      "Multiple eval metrics have been passed: 'test-auc' will be used for early stopping.\n",
      "\n",
      "Will train until test-auc hasn't improved in 50 rounds.\n",
      "Stopping. Best iteration:\n",
      "[23]\ttrain-auc:0.776594+0.00110042\ttest-auc:0.749124+0.00279957\n",
      "\n",
      "    4 | 06m06s |    0.74912 |    9.8361 |            0.1057 |    0.3644 |    0.8133 |     13.9125 |             2.7650 |      0.5649 | \n",
      "Multiple eval metrics have been passed: 'test-auc' will be used for early stopping.\n",
      "\n",
      "Will train until test-auc hasn't improved in 50 rounds.\n",
      "Stopping. Best iteration:\n",
      "[176]\ttrain-auc:0.748809+0.00146699\ttest-auc:0.743566+0.00382214\n",
      "\n",
      "    5 | 17m48s |    0.74357 |    5.1691 |            0.3063 |    0.2397 |    7.8796 |     13.4726 |             3.9278 |      0.8511 | \n",
      "\u001b[31mBayesian Optimization\u001b[0m\n",
      "\u001b[94m--------------------------------------------------------------------------------------------------------------------------------------\u001b[0m\n",
      " Step |   Time |      Value |     alpha |   cosample_bytree |       eta |     gamma |   max_depth |   min_child_weight |   subsample | \n",
      "Multiple eval metrics have been passed: 'test-auc' will be used for early stopping.\n",
      "\n",
      "Will train until test-auc hasn't improved in 50 rounds.\n",
      "Stopping. Best iteration:\n",
      "[82]\ttrain-auc:0.791187+0.000511059\ttest-auc:0.755784+0.00330773\n",
      "\n",
      "    6 | 03m44s | \u001b[35m   0.75578\u001b[0m | \u001b[32m   0.1896\u001b[0m | \u001b[32m           0.1011\u001b[0m | \u001b[32m   0.1950\u001b[0m | \u001b[32m   0.0606\u001b[0m | \u001b[32m     5.1792\u001b[0m | \u001b[32m           14.7006\u001b[0m | \u001b[32m     0.8916\u001b[0m | \n",
      "Multiple eval metrics have been passed: 'test-auc' will be used for early stopping.\n",
      "\n",
      "Will train until test-auc hasn't improved in 50 rounds.\n",
      "Stopping. Best iteration:\n",
      "[44]\ttrain-auc:0.77639+0.000468613\ttest-auc:0.751258+0.00245328\n",
      "\n",
      "    7 | 03m17s |    0.75126 |    0.5150 |            0.9380 |    0.2416 |    0.2543 |      5.1629 |            19.6374 |      0.5382 | \n",
      "Multiple eval metrics have been passed: 'test-auc' will be used for early stopping.\n",
      "\n",
      "Will train until test-auc hasn't improved in 50 rounds.\n",
      "Stopping. Best iteration:\n",
      "[90]\ttrain-auc:0.791311+0.000786217\ttest-auc:0.756863+0.0028806\n",
      "\n",
      "    8 | 03m50s | \u001b[35m   0.75686\u001b[0m | \u001b[32m   8.9948\u001b[0m | \u001b[32m           0.9602\u001b[0m | \u001b[32m   0.3387\u001b[0m | \u001b[32m   0.4926\u001b[0m | \u001b[32m     5.2259\u001b[0m | \u001b[32m            1.6529\u001b[0m | \u001b[32m     0.9901\u001b[0m | \n"
     ]
    },
    {
     "name": "stderr",
     "output_type": "stream",
     "text": [
      "/home/ray/anaconda3/lib/python3.6/site-packages/sklearn/gaussian_process/gpr.py:457: UserWarning: fmin_l_bfgs_b terminated abnormally with the  state: {'grad': array([-3.07301196e-05]), 'task': b'ABNORMAL_TERMINATION_IN_LNSRCH', 'funcalls': 50, 'nit': 4, 'warnflag': 2}\n",
      "  \" state: %s\" % convergence_dict)\n"
     ]
    },
    {
     "name": "stdout",
     "output_type": "stream",
     "text": [
      "Multiple eval metrics have been passed: 'test-auc' will be used for early stopping.\n",
      "\n",
      "Will train until test-auc hasn't improved in 50 rounds.\n",
      "Stopping. Best iteration:\n",
      "[57]\ttrain-auc:0.77252+0.000910023\ttest-auc:0.751984+0.0030076\n",
      "\n",
      "    9 | 03m36s |    0.75198 |    0.0920 |            0.1406 |    0.2458 |    1.2795 |      5.1447 |             1.4981 |      0.5186 | \n",
      "Multiple eval metrics have been passed: 'test-auc' will be used for early stopping.\n",
      "\n",
      "Will train until test-auc hasn't improved in 50 rounds.\n",
      "Stopping. Best iteration:\n",
      "[194]\ttrain-auc:0.817735+0.000626569\ttest-auc:0.760405+0.00238065\n",
      "\n",
      "   10 | 07m38s | \u001b[35m   0.76040\u001b[0m | \u001b[32m   9.6523\u001b[0m | \u001b[32m           0.9604\u001b[0m | \u001b[32m   0.1171\u001b[0m | \u001b[32m   0.1790\u001b[0m | \u001b[32m     6.9201\u001b[0m | \u001b[32m           12.9632\u001b[0m | \u001b[32m     0.9609\u001b[0m | \n",
      "Multiple eval metrics have been passed: 'test-auc' will be used for early stopping.\n",
      "\n",
      "Will train until test-auc hasn't improved in 50 rounds.\n",
      "Stopping. Best iteration:\n",
      "[34]\ttrain-auc:0.779062+0.000833663\ttest-auc:0.752823+0.0028019\n",
      "\n",
      "   11 | 02m37s |    0.75282 |    9.8138 |            0.7646 |    0.4604 |    0.3065 |      5.2719 |            13.4611 |      0.9538 | \n",
      "Multiple eval metrics have been passed: 'test-auc' will be used for early stopping.\n",
      "\n",
      "Will train until test-auc hasn't improved in 50 rounds.\n",
      "Stopping. Best iteration:\n",
      "[80]\ttrain-auc:0.788713+0.000867949\ttest-auc:0.753793+0.00272788\n",
      "\n",
      "   12 | 04m18s |    0.75379 |    2.8259 |            0.9774 |    0.1995 |    0.0055 |      5.6413 |             7.5256 |      0.5366 | \n",
      "Multiple eval metrics have been passed: 'test-auc' will be used for early stopping.\n",
      "\n",
      "Will train until test-auc hasn't improved in 50 rounds.\n",
      "Stopping. Best iteration:\n",
      "[37]\ttrain-auc:0.745315+0.000707382\ttest-auc:0.740893+0.00500768\n",
      "\n",
      "   13 | 02m31s |    0.74089 |    1.1022 |            0.9032 |    0.1000 |    9.5039 |      5.5656 |            19.6865 |      1.0000 | \n",
      "Multiple eval metrics have been passed: 'test-auc' will be used for early stopping.\n",
      "\n",
      "Will train until test-auc hasn't improved in 50 rounds.\n",
      "Stopping. Best iteration:\n",
      "[25]\ttrain-auc:0.889075+0.00116233\ttest-auc:0.738737+0.00422155\n",
      "\n",
      "   14 | 06m12s |    0.73874 |    0.7549 |            0.2135 |    0.1106 |    0.1816 |     13.6929 |            18.9667 |      0.7579 | \n"
     ]
    },
    {
     "name": "stderr",
     "output_type": "stream",
     "text": [
      "/home/ray/anaconda3/lib/python3.6/site-packages/sklearn/gaussian_process/gpr.py:457: UserWarning: fmin_l_bfgs_b terminated abnormally with the  state: {'grad': array([-3.84352475e-05]), 'task': b'ABNORMAL_TERMINATION_IN_LNSRCH', 'funcalls': 55, 'nit': 3, 'warnflag': 2}\n",
      "  \" state: %s\" % convergence_dict)\n"
     ]
    },
    {
     "name": "stdout",
     "output_type": "stream",
     "text": [
      "Multiple eval metrics have been passed: 'test-auc' will be used for early stopping.\n",
      "\n",
      "Will train until test-auc hasn't improved in 50 rounds.\n",
      "Stopping. Best iteration:\n",
      "[250]\ttrain-auc:0.741361+0.00133717\ttest-auc:0.738356+0.00483395\n",
      "\n",
      "   15 | 09m15s |    0.73836 |    0.0000 |            1.0000 |    0.1000 |   10.0000 |      5.0000 |             1.0000 |      0.5000 | \n",
      "Multiple eval metrics have been passed: 'test-auc' will be used for early stopping.\n",
      "\n",
      "Will train until test-auc hasn't improved in 50 rounds.\n",
      "Stopping. Best iteration:\n",
      "[41]\ttrain-auc:0.856648+0.00128225\ttest-auc:0.752513+0.00240984\n",
      "\n",
      "   16 | 04m35s |    0.75251 |    1.0320 |            0.9683 |    0.1452 |    0.4069 |      9.6462 |             1.3375 |      0.9985 | \n"
     ]
    },
    {
     "name": "stderr",
     "output_type": "stream",
     "text": [
      "/home/ray/anaconda3/lib/python3.6/site-packages/sklearn/gaussian_process/gpr.py:457: UserWarning: fmin_l_bfgs_b terminated abnormally with the  state: {'grad': array([-2.77398346e-05]), 'task': b'ABNORMAL_TERMINATION_IN_LNSRCH', 'funcalls': 51, 'nit': 3, 'warnflag': 2}\n",
      "  \" state: %s\" % convergence_dict)\n"
     ]
    },
    {
     "name": "stdout",
     "output_type": "stream",
     "text": [
      "Multiple eval metrics have been passed: 'test-auc' will be used for early stopping.\n",
      "\n",
      "Will train until test-auc hasn't improved in 50 rounds.\n",
      "Stopping. Best iteration:\n",
      "[222]\ttrain-auc:0.744103+0.000977139\ttest-auc:0.740653+0.00493614\n",
      "\n",
      "   17 | 22m43s |    0.74065 |   10.0000 |            1.0000 |    0.1000 |    9.7253 |     13.9751 |            12.8517 |      0.6927 | \n"
     ]
    },
    {
     "name": "stderr",
     "output_type": "stream",
     "text": [
      "/home/ray/anaconda3/lib/python3.6/site-packages/sklearn/gaussian_process/gpr.py:457: UserWarning: fmin_l_bfgs_b terminated abnormally with the  state: {'grad': array([0.00014133]), 'task': b'ABNORMAL_TERMINATION_IN_LNSRCH', 'funcalls': 49, 'nit': 4, 'warnflag': 2}\n",
      "  \" state: %s\" % convergence_dict)\n"
     ]
    },
    {
     "name": "stdout",
     "output_type": "stream",
     "text": [
      "Multiple eval metrics have been passed: 'test-auc' will be used for early stopping.\n",
      "\n",
      "Will train until test-auc hasn't improved in 50 rounds.\n",
      "Stopping. Best iteration:\n",
      "[510]\ttrain-auc:0.758407+0.000857176\ttest-auc:0.751716+0.0038372\n",
      "\n",
      "   18 | 20m21s |    0.75172 |    9.7325 |            0.5763 |    0.1103 |    3.9493 |      7.6420 |             6.7425 |      0.9093 | \n",
      "Multiple eval metrics have been passed: 'test-auc' will be used for early stopping.\n",
      "\n",
      "Will train until test-auc hasn't improved in 50 rounds.\n",
      "Stopping. Best iteration:\n",
      "[72]\ttrain-auc:0.852982+0.000934866\ttest-auc:0.756444+0.00293179\n",
      "\n",
      "   19 | 07m56s |    0.75644 |    9.8838 |            0.8963 |    0.1011 |    0.0555 |     11.6548 |            19.6546 |      0.8368 | \n",
      "Multiple eval metrics have been passed: 'test-auc' will be used for early stopping.\n",
      "\n",
      "Will train until test-auc hasn't improved in 50 rounds.\n",
      "Stopping. Best iteration:\n",
      "[86]\ttrain-auc:0.828411+0.00095252\ttest-auc:0.756735+0.00251677\n",
      "\n",
      "   20 | 07m52s |    0.75674 |    9.5613 |            0.1204 |    0.1078 |    0.0666 |      9.9935 |            13.6121 |      0.5391 | \n",
      "Multiple eval metrics have been passed: 'test-auc' will be used for early stopping.\n",
      "\n",
      "Will train until test-auc hasn't improved in 50 rounds.\n",
      "Stopping. Best iteration:\n",
      "[32]\ttrain-auc:0.802482+0.000944338\ttest-auc:0.753127+0.00256212\n",
      "\n",
      "   21 | 04m17s |    0.75313 |    9.9978 |            0.8476 |    0.2269 |    0.0419 |      8.8446 |             1.5869 |      0.6749 | \n"
     ]
    },
    {
     "name": "stderr",
     "output_type": "stream",
     "text": [
      "/home/ray/anaconda3/lib/python3.6/site-packages/sklearn/gaussian_process/gpr.py:457: UserWarning: fmin_l_bfgs_b terminated abnormally with the  state: {'grad': array([-3.9825587e-05]), 'task': b'ABNORMAL_TERMINATION_IN_LNSRCH', 'funcalls': 51, 'nit': 5, 'warnflag': 2}\n",
      "  \" state: %s\" % convergence_dict)\n"
     ]
    },
    {
     "name": "stdout",
     "output_type": "stream",
     "text": [
      "Multiple eval metrics have been passed: 'test-auc' will be used for early stopping.\n",
      "\n",
      "Will train until test-auc hasn't improved in 50 rounds.\n",
      "Stopping. Best iteration:\n",
      "[936]\ttrain-auc:0.783759+0.000371222\ttest-auc:0.760161+0.00314282\n",
      "\n",
      "   22 | 84m03s |    0.76016 |    9.8471 |            0.9138 |    0.1259 |    1.6029 |     14.9452 |             9.0917 |      0.8392 | \n"
     ]
    },
    {
     "name": "stderr",
     "output_type": "stream",
     "text": [
      "/home/ray/anaconda3/lib/python3.6/site-packages/sklearn/gaussian_process/gpr.py:335: UserWarning: Predicted variances smaller than 0. Setting those variances to 0.\n",
      "  warnings.warn(\"Predicted variances smaller than 0. \"\n"
     ]
    },
    {
     "name": "stdout",
     "output_type": "stream",
     "text": [
      "Multiple eval metrics have been passed: 'test-auc' will be used for early stopping.\n",
      "\n",
      "Will train until test-auc hasn't improved in 50 rounds.\n"
     ]
    }
   ],
   "source": [
    "num_rounds = 3000\n",
    "random_state = 918\n",
    "num_iter = 25\n",
    "init_points = 5\n",
    "params = {\n",
    "    'silent' : 1,\n",
    "    'nthread': 4,\n",
    "    'eval_metric' : 'auc',\n",
    "    'verbose_eval' : True,\n",
    "    'seed': random_state,\n",
    "}\n",
    "\n",
    "xgbBO = BayesianOptimization(xgb_evaluate, {\n",
    "                                            'eta':(0.1, 0.5),\n",
    "                                            'min_child_weight' : (1, 20),\n",
    "                                            'cosample_bytree' : (0.1, 1),\n",
    "                                            'max_depth' : (5, 15),\n",
    "                                            'subsample' : (0.5, 1),\n",
    "                                            'gamma': (0, 10),\n",
    "                                            'alpha': (0, 10)\n",
    "                                        })\n",
    "xgbBO.maximize(init_points=init_points, n_iter=num_iter)"
   ]
  },
  {
   "cell_type": "code",
   "execution_count": null,
   "metadata": {},
   "outputs": [],
   "source": [
    "Step |   Time |      Value |     alpha |   cosample_bytree |       eta |     gamma |   max_depth |   min_child_weight |   subsample | \n",
    "10 | 07m38s |    0.76040 |    9.6523 |            0.9604 |    0.1171 |    0.1790 |      6.9201 |            12.9632 |      0.9609 | \n",
    "22 | 84m03s |    0.76016 |    9.8471 |            0.9138 |    0.1259 |    1.6029 |     14.9452 |             9.0917 |      0.8392 | "
   ]
  },
  {
   "cell_type": "code",
   "execution_count": 109,
   "metadata": {},
   "outputs": [
    {
     "data": {
      "text/plain": [
       "0.6480827684210527"
      ]
     },
     "execution_count": 109,
     "metadata": {},
     "output_type": "execute_result"
    }
   ],
   "source": [
    "cv['test-auc-mean'].mean()\n"
   ]
  },
  {
   "cell_type": "code",
   "execution_count": 113,
   "metadata": {},
   "outputs": [
    {
     "data": {
      "text/html": [
       "<div>\n",
       "<style scoped>\n",
       "    .dataframe tbody tr th:only-of-type {\n",
       "        vertical-align: middle;\n",
       "    }\n",
       "\n",
       "    .dataframe tbody tr th {\n",
       "        vertical-align: top;\n",
       "    }\n",
       "\n",
       "    .dataframe thead th {\n",
       "        text-align: right;\n",
       "    }\n",
       "</style>\n",
       "<table border=\"1\" class=\"dataframe\">\n",
       "  <thead>\n",
       "    <tr style=\"text-align: right;\">\n",
       "      <th></th>\n",
       "      <th>test-auc-mean</th>\n",
       "      <th>test-auc-std</th>\n",
       "      <th>train-auc-mean</th>\n",
       "      <th>train-auc-std</th>\n",
       "    </tr>\n",
       "  </thead>\n",
       "  <tbody>\n",
       "    <tr>\n",
       "      <th>0</th>\n",
       "      <td>0.560961</td>\n",
       "      <td>0.033322</td>\n",
       "      <td>0.830652</td>\n",
       "      <td>0.048688</td>\n",
       "    </tr>\n",
       "    <tr>\n",
       "      <th>1</th>\n",
       "      <td>0.557098</td>\n",
       "      <td>0.028375</td>\n",
       "      <td>0.853743</td>\n",
       "      <td>0.061532</td>\n",
       "    </tr>\n",
       "    <tr>\n",
       "      <th>2</th>\n",
       "      <td>0.550629</td>\n",
       "      <td>0.046166</td>\n",
       "      <td>0.892028</td>\n",
       "      <td>0.040672</td>\n",
       "    </tr>\n",
       "    <tr>\n",
       "      <th>3</th>\n",
       "      <td>0.608626</td>\n",
       "      <td>0.059304</td>\n",
       "      <td>0.920884</td>\n",
       "      <td>0.028417</td>\n",
       "    </tr>\n",
       "    <tr>\n",
       "      <th>4</th>\n",
       "      <td>0.623067</td>\n",
       "      <td>0.046418</td>\n",
       "      <td>0.947886</td>\n",
       "      <td>0.028996</td>\n",
       "    </tr>\n",
       "    <tr>\n",
       "      <th>5</th>\n",
       "      <td>0.642423</td>\n",
       "      <td>0.066361</td>\n",
       "      <td>0.959671</td>\n",
       "      <td>0.020887</td>\n",
       "    </tr>\n",
       "    <tr>\n",
       "      <th>6</th>\n",
       "      <td>0.639852</td>\n",
       "      <td>0.070188</td>\n",
       "      <td>0.962949</td>\n",
       "      <td>0.018274</td>\n",
       "    </tr>\n",
       "    <tr>\n",
       "      <th>7</th>\n",
       "      <td>0.634023</td>\n",
       "      <td>0.065931</td>\n",
       "      <td>0.969360</td>\n",
       "      <td>0.015126</td>\n",
       "    </tr>\n",
       "    <tr>\n",
       "      <th>8</th>\n",
       "      <td>0.657391</td>\n",
       "      <td>0.043328</td>\n",
       "      <td>0.977468</td>\n",
       "      <td>0.014496</td>\n",
       "    </tr>\n",
       "    <tr>\n",
       "      <th>9</th>\n",
       "      <td>0.662393</td>\n",
       "      <td>0.048306</td>\n",
       "      <td>0.983121</td>\n",
       "      <td>0.010186</td>\n",
       "    </tr>\n",
       "    <tr>\n",
       "      <th>10</th>\n",
       "      <td>0.671123</td>\n",
       "      <td>0.048916</td>\n",
       "      <td>0.985789</td>\n",
       "      <td>0.009499</td>\n",
       "    </tr>\n",
       "    <tr>\n",
       "      <th>11</th>\n",
       "      <td>0.676995</td>\n",
       "      <td>0.047759</td>\n",
       "      <td>0.991282</td>\n",
       "      <td>0.007150</td>\n",
       "    </tr>\n",
       "    <tr>\n",
       "      <th>12</th>\n",
       "      <td>0.678474</td>\n",
       "      <td>0.052219</td>\n",
       "      <td>0.993214</td>\n",
       "      <td>0.007146</td>\n",
       "    </tr>\n",
       "    <tr>\n",
       "      <th>13</th>\n",
       "      <td>0.682483</td>\n",
       "      <td>0.056195</td>\n",
       "      <td>0.996474</td>\n",
       "      <td>0.003462</td>\n",
       "    </tr>\n",
       "    <tr>\n",
       "      <th>14</th>\n",
       "      <td>0.683776</td>\n",
       "      <td>0.053772</td>\n",
       "      <td>0.996910</td>\n",
       "      <td>0.003471</td>\n",
       "    </tr>\n",
       "    <tr>\n",
       "      <th>15</th>\n",
       "      <td>0.689075</td>\n",
       "      <td>0.049329</td>\n",
       "      <td>0.998031</td>\n",
       "      <td>0.002605</td>\n",
       "    </tr>\n",
       "    <tr>\n",
       "      <th>16</th>\n",
       "      <td>0.693003</td>\n",
       "      <td>0.056051</td>\n",
       "      <td>0.998308</td>\n",
       "      <td>0.002186</td>\n",
       "    </tr>\n",
       "    <tr>\n",
       "      <th>17</th>\n",
       "      <td>0.699989</td>\n",
       "      <td>0.055308</td>\n",
       "      <td>0.998350</td>\n",
       "      <td>0.002100</td>\n",
       "    </tr>\n",
       "    <tr>\n",
       "      <th>18</th>\n",
       "      <td>0.702192</td>\n",
       "      <td>0.048691</td>\n",
       "      <td>0.998347</td>\n",
       "      <td>0.002090</td>\n",
       "    </tr>\n",
       "  </tbody>\n",
       "</table>\n",
       "</div>"
      ],
      "text/plain": [
       "    test-auc-mean  test-auc-std  train-auc-mean  train-auc-std\n",
       "0        0.560961      0.033322        0.830652       0.048688\n",
       "1        0.557098      0.028375        0.853743       0.061532\n",
       "2        0.550629      0.046166        0.892028       0.040672\n",
       "3        0.608626      0.059304        0.920884       0.028417\n",
       "4        0.623067      0.046418        0.947886       0.028996\n",
       "5        0.642423      0.066361        0.959671       0.020887\n",
       "6        0.639852      0.070188        0.962949       0.018274\n",
       "7        0.634023      0.065931        0.969360       0.015126\n",
       "8        0.657391      0.043328        0.977468       0.014496\n",
       "9        0.662393      0.048306        0.983121       0.010186\n",
       "10       0.671123      0.048916        0.985789       0.009499\n",
       "11       0.676995      0.047759        0.991282       0.007150\n",
       "12       0.678474      0.052219        0.993214       0.007146\n",
       "13       0.682483      0.056195        0.996474       0.003462\n",
       "14       0.683776      0.053772        0.996910       0.003471\n",
       "15       0.689075      0.049329        0.998031       0.002605\n",
       "16       0.693003      0.056051        0.998308       0.002186\n",
       "17       0.699989      0.055308        0.998350       0.002100\n",
       "18       0.702192      0.048691        0.998347       0.002090"
      ]
     },
     "execution_count": 113,
     "metadata": {},
     "output_type": "execute_result"
    }
   ],
   "source": [
    "cv\n"
   ]
  }
 ],
 "metadata": {
  "kernelspec": {
   "display_name": "Python 3",
   "language": "python",
   "name": "python3"
  },
  "language_info": {
   "codemirror_mode": {
    "name": "ipython",
    "version": 3
   },
   "file_extension": ".py",
   "mimetype": "text/x-python",
   "name": "python",
   "nbconvert_exporter": "python",
   "pygments_lexer": "ipython3",
   "version": "3.6.4"
  }
 },
 "nbformat": 4,
 "nbformat_minor": 2
}
