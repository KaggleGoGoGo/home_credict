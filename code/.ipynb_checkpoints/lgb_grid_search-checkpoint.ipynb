{
 "cells": [
  {
   "cell_type": "markdown",
   "metadata": {},
   "source": [
    "# 这个文件做了什么\n",
    "\n",
    "LightGBM手动调参，按照调参手册"
   ]
  },
  {
   "cell_type": "code",
   "execution_count": 28,
   "metadata": {},
   "outputs": [],
   "source": [
    "import numpy as np\n",
    "import pandas as pd\n",
    "import matplotlib.pyplot as plt\n",
    "from sklearn.model_selection import train_test_split, GridSearchCV\n",
    "from sklearn.pipeline import Pipeline\n",
    "from sklearn.preprocessing import Imputer, StandardScaler\n",
    "from sklearn.feature_selection import SelectFromModel\n",
    "from sklearn.linear_model import LogisticRegression, LassoCV\n",
    "from sklearn.metrics import auc, roc_curve, roc_auc_score\n",
    "from sklearn.naive_bayes import GaussianNB\n",
    "from sklearn.ensemble import GradientBoostingClassifier, RandomForestClassifier, ExtraTreesClassifier\n",
    "from bayes_opt import BayesianOptimization\n",
    "from sklearn.cross_validation import cross_val_score\n",
    "import gc\n",
    "from xgboost.sklearn import XGBClassifier\n",
    "import xgboost as xgb\n",
    "import lightgbm as lgb"
   ]
  },
  {
   "cell_type": "code",
   "execution_count": 2,
   "metadata": {},
   "outputs": [],
   "source": [
    "\n",
    "def data_prepare(num=None):\n",
    "    train = pd.read_csv('../data/handled/train.csv', nrows=num, index_col=0)\n",
    "    test = pd.read_csv('../data/handled/test.csv', nrows=num, index_col=0)\n",
    "    y_train = pd.read_csv('../data/handled/y_train.csv', nrows=num, header=-1, index_col=0)\n",
    "    return train, test, y_train.values.ravel()\n",
    "\n",
    "def imput_by_mean(train, test):\n",
    "    im = Imputer()\n",
    "    train = im.fit_transform(train)\n",
    "    test = im.transform(test)\n",
    "    return train, test\n"
   ]
  },
  {
   "cell_type": "code",
   "execution_count": 15,
   "metadata": {},
   "outputs": [],
   "source": [
    "def lgb_score(params, x, y, num_boost_round=100, nfolds=5, metrics='auc', seed=2018):\n",
    "    data = lgb.Dataset(x, label=y)\n",
    "    cv_res = lgb.cv(params, data, num_boost_round=num_boost_round, nfold=nfolds, \n",
    "                    metrics=metrics, seed=seed, early_stopping_rounds=50)\n",
    "    return cv_res['auc-mean'][-1], len(cv_res['auc-mean'])"
   ]
  },
  {
   "cell_type": "code",
   "execution_count": 6,
   "metadata": {},
   "outputs": [],
   "source": [
    "df_train, df_test, y_train = data_prepare()\n",
    "train, test = imput_by_mean(df_train.values, df_test.values)"
   ]
  },
  {
   "cell_type": "code",
   "execution_count": 19,
   "metadata": {},
   "outputs": [],
   "source": [
    "params_lgb = {\n",
    "    'nthread': 4,\n",
    "    #is_unbalance=True,\n",
    "    #'n_estimators' : 10000,\n",
    "    'learning_rate' : 0.1171,\n",
    "    #'num_leaves' : 32,\n",
    "    'colsample_bytree' : 0.9604,\n",
    "    'subsample' : 0.9609,\n",
    "    'max_depth' : 7,\n",
    "    'reg_alpha' : 9.6523,\n",
    "    'reg_lambda' : 1,\n",
    "    'min_split_gain' : 0.179,\n",
    "    'min_child_weight' : 13,\n",
    "    'metric': 'auc',\n",
    "    'verbose': -1,\n",
    "    #scale_pos_weight=11\n",
    "}"
   ]
  },
  {
   "cell_type": "markdown",
   "metadata": {},
   "source": [
    "## step 1. 确定最优learning_rate 和 迭代器数目\n",
    "参考 [https://blog.csdn.net/han_xiaoyang/article/details/52665396](https://blog.csdn.net/han_xiaoyang/article/details/52665396)"
   ]
  },
  {
   "cell_type": "code",
   "execution_count": 21,
   "metadata": {
    "scrolled": true
   },
   "outputs": [
    {
     "data": {
      "text/plain": [
       "(0.7759551429811502, 100)"
      ]
     },
     "execution_count": 21,
     "metadata": {},
     "output_type": "execute_result"
    }
   ],
   "source": [
    "# learning_rate = 0.1, n_estermatro = 100\n",
    "res = lgb_score(params_lgb, train, y_train)\n",
    "res"
   ]
  },
  {
   "cell_type": "code",
   "execution_count": 23,
   "metadata": {},
   "outputs": [
    {
     "name": "stderr",
     "output_type": "stream",
     "text": [
      "/usr/anaconda3/lib/python3.6/site-packages/lightgbm/basic.py:661: UserWarning: silent keyword has been found in `params` and will be ignored. Please use silent argument of the Dataset constructor to pass this parameter.\n",
      "  'Please use {0} argument of the Dataset constructor to pass this parameter.'.format(key))\n"
     ]
    },
    {
     "data": {
      "text/plain": [
       "(0.7745931129272222, 95)"
      ]
     },
     "execution_count": 23,
     "metadata": {},
     "output_type": "execute_result"
    }
   ],
   "source": [
    "params_lgb['learning_rate'] = 0.2\n",
    "lgb_score(params_lgb, train, y_train)"
   ]
  },
  {
   "cell_type": "code",
   "execution_count": 24,
   "metadata": {},
   "outputs": [
    {
     "name": "stderr",
     "output_type": "stream",
     "text": [
      "/usr/anaconda3/lib/python3.6/site-packages/lightgbm/basic.py:661: UserWarning: silent keyword has been found in `params` and will be ignored. Please use silent argument of the Dataset constructor to pass this parameter.\n",
      "  'Please use {0} argument of the Dataset constructor to pass this parameter.'.format(key))\n"
     ]
    },
    {
     "data": {
      "text/plain": [
       "(0.7719364634745626, 68)"
      ]
     },
     "execution_count": 24,
     "metadata": {},
     "output_type": "execute_result"
    }
   ],
   "source": [
    "params_lgb['learning_rate'] = 0.3\n",
    "lgb_score(params_lgb, train, y_train)"
   ]
  },
  {
   "cell_type": "code",
   "execution_count": 26,
   "metadata": {},
   "outputs": [
    {
     "name": "stderr",
     "output_type": "stream",
     "text": [
      "/usr/anaconda3/lib/python3.6/site-packages/lightgbm/basic.py:661: UserWarning: silent keyword has been found in `params` and will be ignored. Please use silent argument of the Dataset constructor to pass this parameter.\n",
      "  'Please use {0} argument of the Dataset constructor to pass this parameter.'.format(key))\n"
     ]
    },
    {
     "data": {
      "text/plain": [
       "(0.7745532486404375, 100)"
      ]
     },
     "execution_count": 26,
     "metadata": {},
     "output_type": "execute_result"
    }
   ],
   "source": [
    "params_lgb['learning_rate'] = 0.09\n",
    "lgb_score(params_lgb, train, y_train)"
   ]
  },
  {
   "cell_type": "code",
   "execution_count": 27,
   "metadata": {},
   "outputs": [
    {
     "name": "stderr",
     "output_type": "stream",
     "text": [
      "/usr/anaconda3/lib/python3.6/site-packages/lightgbm/basic.py:661: UserWarning: silent keyword has been found in `params` and will be ignored. Please use silent argument of the Dataset constructor to pass this parameter.\n",
      "  'Please use {0} argument of the Dataset constructor to pass this parameter.'.format(key))\n"
     ]
    },
    {
     "data": {
      "text/plain": [
       "(0.7756976065151073, 100)"
      ]
     },
     "execution_count": 27,
     "metadata": {},
     "output_type": "execute_result"
    }
   ],
   "source": [
    "params_lgb['learning_rate'] = 0.11\n",
    "lgb_score(params_lgb, train, y_train)"
   ]
  },
  {
   "cell_type": "markdown",
   "metadata": {},
   "source": [
    "**最终确定learning_rate=0.1, n_estimator=100**"
   ]
  },
  {
   "cell_type": "markdown",
   "metadata": {},
   "source": [
    "## step 2. max_depth 和 min_weight 参数调优"
   ]
  },
  {
   "cell_type": "code",
   "execution_count": 29,
   "metadata": {},
   "outputs": [],
   "source": [
    "init_params = {\n",
    "    'learning_rate' : 0.1,\n",
    "    'n_estimators' : 100,\n",
    "    'colsample_bytree' : 0.9604,\n",
    "    'subsample' : 0.9609,\n",
    "    'reg_alpha' : 9.6523,\n",
    "    'reg_lambda' : 1,\n",
    "    'min_split_gain' : 0.179,\n",
    "    'metric': 'auc',\n",
    "}"
   ]
  },
  {
   "cell_type": "code",
   "execution_count": 38,
   "metadata": {},
   "outputs": [],
   "source": [
    "param_grid = {\n",
    "    'max_depth' : range(5, 15, 2),\n",
    "    'min_child_weight' : range(1, 15, 2),\n",
    "}"
   ]
  },
  {
   "cell_type": "code",
   "execution_count": 39,
   "metadata": {},
   "outputs": [],
   "source": [
    "searcher = GridSearchCV(estimator=lgb.LGBMClassifier(**init_params), param_grid=param_grid, cv=3, scoring='roc_auc')"
   ]
  },
  {
   "cell_type": "code",
   "execution_count": 40,
   "metadata": {},
   "outputs": [
    {
     "data": {
      "text/plain": [
       "GridSearchCV(cv=3, error_score='raise',\n",
       "       estimator=LGBMClassifier(boosting_type='gbdt', class_weight=None,\n",
       "        colsample_bytree=0.9604, learning_rate=0.1, max_depth=-1,\n",
       "        metric='auc', min_child_samples=20, min_child_weight=0.001,\n",
       "        min_split_gain=0.179, n_estimator=100, n_estimators=100, n_jobs=-1,\n",
       "        num_leaves=31, objective=None, random_state=None, reg_alpha=9.6523,\n",
       "        reg_lambda=1, silent=True, subsample=0.9609,\n",
       "        subsample_for_bin=200000, subsample_freq=0),\n",
       "       fit_params=None, iid=True, n_jobs=1,\n",
       "       param_grid={'max_depth': range(5, 15, 2), 'min_child_weight': range(1, 15, 2)},\n",
       "       pre_dispatch='2*n_jobs', refit=True, return_train_score='warn',\n",
       "       scoring='roc_auc', verbose=0)"
      ]
     },
     "execution_count": 40,
     "metadata": {},
     "output_type": "execute_result"
    }
   ],
   "source": [
    "searcher.fit(train, y_train)"
   ]
  },
  {
   "cell_type": "code",
   "execution_count": 42,
   "metadata": {},
   "outputs": [
    {
     "name": "stdout",
     "output_type": "stream",
     "text": [
      "[mean: 0.77125, std: 0.00306, params: {'max_depth': 5, 'min_child_weight': 1}, mean: 0.77150, std: 0.00314, params: {'max_depth': 5, 'min_child_weight': 3}, mean: 0.77092, std: 0.00426, params: {'max_depth': 5, 'min_child_weight': 5}, mean: 0.77073, std: 0.00359, params: {'max_depth': 5, 'min_child_weight': 7}, mean: 0.77145, std: 0.00298, params: {'max_depth': 5, 'min_child_weight': 9}, mean: 0.77174, std: 0.00290, params: {'max_depth': 5, 'min_child_weight': 11}, mean: 0.77270, std: 0.00173, params: {'max_depth': 5, 'min_child_weight': 13}, mean: 0.77345, std: 0.00291, params: {'max_depth': 7, 'min_child_weight': 1}, mean: 0.77382, std: 0.00340, params: {'max_depth': 7, 'min_child_weight': 3}, mean: 0.77330, std: 0.00335, params: {'max_depth': 7, 'min_child_weight': 5}, mean: 0.77394, std: 0.00303, params: {'max_depth': 7, 'min_child_weight': 7}, mean: 0.77348, std: 0.00308, params: {'max_depth': 7, 'min_child_weight': 9}, mean: 0.77367, std: 0.00309, params: {'max_depth': 7, 'min_child_weight': 11}, mean: 0.77361, std: 0.00300, params: {'max_depth': 7, 'min_child_weight': 13}, mean: 0.77428, std: 0.00358, params: {'max_depth': 9, 'min_child_weight': 1}, mean: 0.77401, std: 0.00372, params: {'max_depth': 9, 'min_child_weight': 3}, mean: 0.77429, std: 0.00371, params: {'max_depth': 9, 'min_child_weight': 5}, mean: 0.77403, std: 0.00319, params: {'max_depth': 9, 'min_child_weight': 7}, mean: 0.77407, std: 0.00359, params: {'max_depth': 9, 'min_child_weight': 9}, mean: 0.77394, std: 0.00367, params: {'max_depth': 9, 'min_child_weight': 11}, mean: 0.77421, std: 0.00343, params: {'max_depth': 9, 'min_child_weight': 13}, mean: 0.77437, std: 0.00353, params: {'max_depth': 11, 'min_child_weight': 1}, mean: 0.77434, std: 0.00357, params: {'max_depth': 11, 'min_child_weight': 3}, mean: 0.77440, std: 0.00330, params: {'max_depth': 11, 'min_child_weight': 5}, mean: 0.77431, std: 0.00323, params: {'max_depth': 11, 'min_child_weight': 7}, mean: 0.77452, std: 0.00328, params: {'max_depth': 11, 'min_child_weight': 9}, mean: 0.77414, std: 0.00371, params: {'max_depth': 11, 'min_child_weight': 11}, mean: 0.77381, std: 0.00417, params: {'max_depth': 11, 'min_child_weight': 13}, mean: 0.77414, std: 0.00353, params: {'max_depth': 13, 'min_child_weight': 1}, mean: 0.77405, std: 0.00350, params: {'max_depth': 13, 'min_child_weight': 3}, mean: 0.77435, std: 0.00317, params: {'max_depth': 13, 'min_child_weight': 5}, mean: 0.77425, std: 0.00326, params: {'max_depth': 13, 'min_child_weight': 7}, mean: 0.77479, std: 0.00340, params: {'max_depth': 13, 'min_child_weight': 9}, mean: 0.77414, std: 0.00366, params: {'max_depth': 13, 'min_child_weight': 11}, mean: 0.77417, std: 0.00386, params: {'max_depth': 13, 'min_child_weight': 13}]\n",
      "========================\n",
      "{'max_depth': 13, 'min_child_weight': 9}\n",
      "========================\n",
      "0.7747936865450672\n"
     ]
    },
    {
     "name": "stderr",
     "output_type": "stream",
     "text": [
      "/usr/anaconda3/lib/python3.6/site-packages/sklearn/model_selection/_search.py:761: DeprecationWarning: The grid_scores_ attribute was deprecated in version 0.18 in favor of the more elaborate cv_results_ attribute. The grid_scores_ attribute will not be available from 0.20\n",
      "  DeprecationWarning)\n"
     ]
    }
   ],
   "source": [
    "print(searcher.grid_scores_)\n",
    "print(\"========================\")\n",
    "print(searcher.best_params_)\n",
    "print(\"========================\")\n",
    "print(searcher.best_score_)\n"
   ]
  },
  {
   "cell_type": "markdown",
   "metadata": {},
   "source": [
    "### 细调"
   ]
  },
  {
   "cell_type": "code",
   "execution_count": 43,
   "metadata": {},
   "outputs": [],
   "source": [
    "param_grid = {\n",
    "    'max_depth' : [12, 13, 14],\n",
    "    'min_child_weight' : [8, 9, 10],\n",
    "}"
   ]
  },
  {
   "cell_type": "code",
   "execution_count": 46,
   "metadata": {},
   "outputs": [
    {
     "name": "stdout",
     "output_type": "stream",
     "text": [
      "[mean: 0.77437, std: 0.00327, params: {'max_depth': 12, 'min_child_weight': 8}, mean: 0.77430, std: 0.00377, params: {'max_depth': 12, 'min_child_weight': 9}, mean: 0.77477, std: 0.00342, params: {'max_depth': 12, 'min_child_weight': 10}, mean: 0.77439, std: 0.00318, params: {'max_depth': 13, 'min_child_weight': 8}, mean: 0.77479, std: 0.00340, params: {'max_depth': 13, 'min_child_weight': 9}, mean: 0.77482, std: 0.00289, params: {'max_depth': 13, 'min_child_weight': 10}, mean: 0.77458, std: 0.00337, params: {'max_depth': 14, 'min_child_weight': 8}, mean: 0.77494, std: 0.00325, params: {'max_depth': 14, 'min_child_weight': 9}, mean: 0.77472, std: 0.00327, params: {'max_depth': 14, 'min_child_weight': 10}]\n",
      "========================\n",
      "{'max_depth': 14, 'min_child_weight': 9}\n",
      "========================\n",
      "0.7749436130861374\n"
     ]
    },
    {
     "name": "stderr",
     "output_type": "stream",
     "text": [
      "/usr/anaconda3/lib/python3.6/site-packages/sklearn/model_selection/_search.py:761: DeprecationWarning: The grid_scores_ attribute was deprecated in version 0.18 in favor of the more elaborate cv_results_ attribute. The grid_scores_ attribute will not be available from 0.20\n",
      "  DeprecationWarning)\n"
     ]
    }
   ],
   "source": [
    "searcher = GridSearchCV(estimator=lgb.LGBMClassifier(**init_params), param_grid=param_grid, cv=3, scoring='roc_auc')\n",
    "searcher.fit(train, y_train)\n",
    "\n",
    "print(searcher.grid_scores_)\n",
    "print(\"========================\")\n",
    "print(searcher.best_params_)\n",
    "print(\"========================\")\n",
    "print(searcher.best_score_)\n"
   ]
  },
  {
   "cell_type": "markdown",
   "metadata": {},
   "source": [
    "## step 2.5 插曲：忘记了参数 num_leaves，在这里补上"
   ]
  },
  {
   "cell_type": "code",
   "execution_count": 47,
   "metadata": {},
   "outputs": [
    {
     "name": "stderr",
     "output_type": "stream",
     "text": [
      "/usr/anaconda3/lib/python3.6/site-packages/lightgbm/engine.py:394: UserWarning: Found `n_estimators` in params. Will use it instead of argument\n",
      "  warnings.warn(\"Found `{}` in params. Will use it instead of argument\".format(alias))\n"
     ]
    },
    {
     "data": {
      "text/plain": [
       "(0.775656387390286, 100)"
      ]
     },
     "execution_count": 47,
     "metadata": {},
     "output_type": "execute_result"
    }
   ],
   "source": [
    "init_params = {\n",
    "    'learning_rate' : 0.1,\n",
    "    'n_estimators' : 100,\n",
    "    'max_depth' : 14,\n",
    "    'min_child_weight' : 9,\n",
    "    'num_leaves': 31,\n",
    "    'colsample_bytree' : 0.9604,\n",
    "    'subsample' : 0.9609,\n",
    "    'reg_alpha' : 9.6523,\n",
    "    'reg_lambda' : 1,\n",
    "    'min_split_gain': 0.179,\n",
    "    'metric': 'auc', \n",
    "}\n",
    "lgb_score(init_params, train, y_train)"
   ]
  },
  {
   "cell_type": "code",
   "execution_count": 50,
   "metadata": {},
   "outputs": [
    {
     "name": "stderr",
     "output_type": "stream",
     "text": [
      "/usr/anaconda3/lib/python3.6/site-packages/lightgbm/engine.py:394: UserWarning: Found `n_estimators` in params. Will use it instead of argument\n",
      "  warnings.warn(\"Found `{}` in params. Will use it instead of argument\".format(alias))\n"
     ]
    },
    {
     "data": {
      "text/plain": [
       "(0.7765023963754675, 100)"
      ]
     },
     "execution_count": 50,
     "metadata": {},
     "output_type": "execute_result"
    }
   ],
   "source": [
    "init_params = {\n",
    "    'learning_rate' : 0.1,\n",
    "    'n_estimators' : 100,\n",
    "    'max_depth' : 14,\n",
    "    'min_child_weight' : 9,\n",
    "    'num_leaves': 100,\n",
    "    'colsample_bytree' : 0.9604,\n",
    "    'subsample' : 0.9609,\n",
    "    'reg_alpha' : 9.6523,\n",
    "    'reg_lambda' : 1,\n",
    "    'min_split_gain': 0.179,\n",
    "    'metric': 'auc', \n",
    "}\n",
    "lgb_score(init_params, train, y_train)"
   ]
  },
  {
   "cell_type": "code",
   "execution_count": 53,
   "metadata": {},
   "outputs": [
    {
     "name": "stderr",
     "output_type": "stream",
     "text": [
      "/usr/anaconda3/lib/python3.6/site-packages/lightgbm/engine.py:394: UserWarning: Found `n_estimators` in params. Will use it instead of argument\n",
      "  warnings.warn(\"Found `{}` in params. Will use it instead of argument\".format(alias))\n"
     ]
    },
    {
     "data": {
      "text/plain": [
       "(0.7763945871634774, 99)"
      ]
     },
     "execution_count": 53,
     "metadata": {},
     "output_type": "execute_result"
    }
   ],
   "source": [
    "init_params = {\n",
    "    'learning_rate' : 0.1,\n",
    "    'n_estimators' : 100,\n",
    "    'max_depth' : 14,\n",
    "    'min_child_weight' : 9,\n",
    "    'num_leaves': 95,\n",
    "    'colsample_bytree' : 0.9604,\n",
    "    'subsample' : 0.9609,\n",
    "    'reg_alpha' : 9.6523,\n",
    "    'reg_lambda' : 1,\n",
    "    'min_split_gain': 0.179,\n",
    "    'metric': 'auc', \n",
    "}\n",
    "lgb_score(init_params, train, y_train)"
   ]
  },
  {
   "cell_type": "code",
   "execution_count": 63,
   "metadata": {},
   "outputs": [],
   "source": [
    "init_params = {\n",
    "    'learning_rate' : 0.1,\n",
    "    'n_estimators' : 100,\n",
    "    'max_depth' : 14,\n",
    "    'min_child_weight' : 9,\n",
    "    'colsample_bytree' : 0.9604,\n",
    "    'subsample' : 0.9609,\n",
    "    'reg_alpha' : 9.6523,\n",
    "    'reg_lambda' : 1,\n",
    "    'min_split_gain': 0.179,\n",
    "    'metric': 'auc', \n",
    "}\n",
    "\n",
    "param_grid = {\n",
    "    'num_leaves': range(20, 100, 10),\n",
    "}\n"
   ]
  },
  {
   "cell_type": "code",
   "execution_count": 64,
   "metadata": {},
   "outputs": [
    {
     "name": "stdout",
     "output_type": "stream",
     "text": [
      "[mean: 0.77362, std: 0.00327, params: {'num_leaves': 20}, mean: 0.77434, std: 0.00334, params: {'num_leaves': 30}, mean: 0.77390, std: 0.00334, params: {'num_leaves': 40}, mean: 0.77517, std: 0.00362, params: {'num_leaves': 50}, mean: 0.77435, std: 0.00414, params: {'num_leaves': 60}, mean: 0.77438, std: 0.00379, params: {'num_leaves': 70}, mean: 0.77265, std: 0.00388, params: {'num_leaves': 80}, mean: 0.77367, std: 0.00431, params: {'num_leaves': 90}]\n",
      "========================\n",
      "{'num_leaves': 50}\n",
      "========================\n",
      "0.7751657038584755\n"
     ]
    },
    {
     "name": "stderr",
     "output_type": "stream",
     "text": [
      "/usr/anaconda3/lib/python3.6/site-packages/sklearn/model_selection/_search.py:761: DeprecationWarning: The grid_scores_ attribute was deprecated in version 0.18 in favor of the more elaborate cv_results_ attribute. The grid_scores_ attribute will not be available from 0.20\n",
      "  DeprecationWarning)\n"
     ]
    }
   ],
   "source": [
    "searcher = GridSearchCV(estimator=lgb.LGBMClassifier(**init_params), param_grid=param_grid, cv=3, scoring='roc_auc')\n",
    "searcher.fit(train, y_train)\n",
    "\n",
    "print(searcher.grid_scores_)\n",
    "print(\"========================\")\n",
    "print(searcher.best_params_)\n",
    "print(\"========================\")\n",
    "print(searcher.best_score_)\n"
   ]
  },
  {
   "cell_type": "code",
   "execution_count": 65,
   "metadata": {},
   "outputs": [
    {
     "name": "stdout",
     "output_type": "stream",
     "text": [
      "[mean: 0.77364, std: 0.00398, params: {'num_leaves': 45}, mean: 0.77433, std: 0.00362, params: {'num_leaves': 46}, mean: 0.77396, std: 0.00368, params: {'num_leaves': 47}, mean: 0.77408, std: 0.00439, params: {'num_leaves': 48}, mean: 0.77414, std: 0.00375, params: {'num_leaves': 49}, mean: 0.77517, std: 0.00362, params: {'num_leaves': 50}, mean: 0.77445, std: 0.00425, params: {'num_leaves': 51}, mean: 0.77387, std: 0.00396, params: {'num_leaves': 52}, mean: 0.77394, std: 0.00426, params: {'num_leaves': 53}, mean: 0.77439, std: 0.00369, params: {'num_leaves': 54}]\n",
      "========================\n",
      "{'num_leaves': 50}\n",
      "========================\n",
      "0.7751657038584755\n"
     ]
    },
    {
     "name": "stderr",
     "output_type": "stream",
     "text": [
      "/usr/anaconda3/lib/python3.6/site-packages/sklearn/model_selection/_search.py:761: DeprecationWarning: The grid_scores_ attribute was deprecated in version 0.18 in favor of the more elaborate cv_results_ attribute. The grid_scores_ attribute will not be available from 0.20\n",
      "  DeprecationWarning)\n"
     ]
    }
   ],
   "source": [
    "param_grid = {\n",
    "    'num_leaves': range(45, 55, 1),\n",
    "}\n",
    "searcher = GridSearchCV(estimator=lgb.LGBMClassifier(**init_params), param_grid=param_grid, cv=3, scoring='roc_auc')\n",
    "searcher.fit(train, y_train)\n",
    "\n",
    "print(searcher.grid_scores_)\n",
    "print(\"========================\")\n",
    "print(searcher.best_params_)\n",
    "print(\"========================\")\n",
    "print(searcher.best_score_)\n",
    "\n"
   ]
  },
  {
   "cell_type": "markdown",
   "metadata": {},
   "source": [
    "## step 3. 调整 min_split_gain"
   ]
  },
  {
   "cell_type": "code",
   "execution_count": 66,
   "metadata": {},
   "outputs": [],
   "source": [
    "init_params = {\n",
    "    'nthread': 8,\n",
    "    'learning_rate' : 0.1,\n",
    "    'n_estimators' : 100,\n",
    "    'max_depth' : 14,\n",
    "    'min_child_weight' : 9,\n",
    "    'num_leaves': 50,\n",
    "    'colsample_bytree' : 0.9604,\n",
    "    'subsample' : 0.9609,\n",
    "    'reg_alpha' : 9.6523,\n",
    "    'reg_lambda' : 1,\n",
    "    'metric': 'auc', \n",
    "}"
   ]
  },
  {
   "cell_type": "code",
   "execution_count": 67,
   "metadata": {},
   "outputs": [],
   "source": [
    "param_grid = {\n",
    "    'min_split_gain' : np.arange(0.15, 0.2, 0.1),\n",
    "}"
   ]
  },
  {
   "cell_type": "code",
   "execution_count": 68,
   "metadata": {},
   "outputs": [
    {
     "name": "stdout",
     "output_type": "stream",
     "text": [
      "[mean: 0.77484, std: 0.00405, params: {'min_split_gain': 0.1}, mean: 0.77509, std: 0.00377, params: {'min_split_gain': 0.2}, mean: 0.77444, std: 0.00425, params: {'min_split_gain': 0.30000000000000004}, mean: 0.77476, std: 0.00345, params: {'min_split_gain': 0.4}]\n",
      "========================\n",
      "{'min_split_gain': 0.2}\n",
      "========================\n",
      "0.7750868191685372\n"
     ]
    },
    {
     "name": "stderr",
     "output_type": "stream",
     "text": [
      "/usr/anaconda3/lib/python3.6/site-packages/sklearn/model_selection/_search.py:761: DeprecationWarning: The grid_scores_ attribute was deprecated in version 0.18 in favor of the more elaborate cv_results_ attribute. The grid_scores_ attribute will not be available from 0.20\n",
      "  DeprecationWarning)\n"
     ]
    }
   ],
   "source": [
    "searcher = GridSearchCV(estimator=lgb.LGBMClassifier(**init_params), param_grid=param_grid, cv=3, scoring='roc_auc')\n",
    "searcher.fit(train, y_train)\n",
    "\n",
    "print(searcher.grid_scores_)\n",
    "print(\"========================\")\n",
    "print(searcher.best_params_)\n",
    "print(\"========================\")\n",
    "print(searcher.best_score_)\n"
   ]
  },
  {
   "cell_type": "markdown",
   "metadata": {},
   "source": [
    "## step 4. 调整subsample 和 colsample_bytree 参数"
   ]
  },
  {
   "cell_type": "code",
   "execution_count": 77,
   "metadata": {},
   "outputs": [],
   "source": [
    "init_params = {\n",
    "    'nthread': 8,\n",
    "    'learning_rate' : 0.1,\n",
    "    'n_estimators' : 100,\n",
    "    'max_depth' : 14,\n",
    "    'min_child_weight' : 9,\n",
    "    'num_leaves': 50,\n",
    "    'min_split_gain': 0.2,\n",
    "    'reg_alpha' : 9.6523,\n",
    "    'reg_lambda' : 1,\n",
    "    'colsample_bytree': 1.0,\n",
    "    'metric': 'auc', \n",
    "}\n"
   ]
  },
  {
   "cell_type": "markdown",
   "metadata": {},
   "source": [
    "**测试发现colsample_bytree 对结果无影响**"
   ]
  },
  {
   "cell_type": "code",
   "execution_count": 78,
   "metadata": {},
   "outputs": [],
   "source": [
    "param_grid = {\n",
    " 'subsample': np.arange(0.9, 1.0, 0.01),\n",
    "}"
   ]
  },
  {
   "cell_type": "code",
   "execution_count": 82,
   "metadata": {},
   "outputs": [
    {
     "data": {
      "text/plain": [
       "()"
      ]
     },
     "execution_count": 82,
     "metadata": {},
     "output_type": "execute_result"
    }
   ],
   "source": [
    "# searcher = GridSearchCV(estimator=lgb.LGBMClassifier(**init_params), param_grid=param_grid, cv=3, scoring='roc_auc', n_jobs=8)\n",
    "# searcher.fit(train, y_train)\n",
    "\n",
    "# for i in searcher.grid_scores_:\n",
    "#     print(i)\n",
    "# print(\"========================\")\n",
    "# print(searcher.best_params_)\n",
    "# print(\"========================\")\n",
    "# print(searcher.best_score_)\n"
   ]
  }
 ],
 "metadata": {
  "kernelspec": {
   "display_name": "Python 3",
   "language": "python",
   "name": "python3"
  },
  "language_info": {
   "codemirror_mode": {
    "name": "ipython",
    "version": 3
   },
   "file_extension": ".py",
   "mimetype": "text/x-python",
   "name": "python",
   "nbconvert_exporter": "python",
   "pygments_lexer": "ipython3",
   "version": "3.6.5"
  }
 },
 "nbformat": 4,
 "nbformat_minor": 2
}
