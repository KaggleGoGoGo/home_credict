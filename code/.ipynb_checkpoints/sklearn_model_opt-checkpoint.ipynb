{
 "cells": [
  {
   "cell_type": "markdown",
   "metadata": {},
   "source": [
    "# 测试各种sklearn模型，用以模型融合\n",
    "\n",
    "\n"
   ]
  },
  {
   "cell_type": "code",
   "execution_count": 3,
   "metadata": {},
   "outputs": [],
   "source": [
    "import numpy as np\n",
    "import pandas as pd\n",
    "import matplotlib.pyplot as plt\n",
    "from sklearn.model_selection import train_test_split\n",
    "from sklearn.pipeline import Pipeline\n",
    "from sklearn.preprocessing import Imputer\n",
    "from sklearn.preprocessing import StandardScaler\n",
    "from sklearn.feature_selection import SelectFromModel\n",
    "from sklearn.linear_model import LogisticRegression\n",
    "from sklearn.metrics import auc, roc_curve, roc_auc_score\n",
    "from sklearn.naive_bayes import GaussianNB\n",
    "from sklearn.ensemble import GradientBoostingClassifier, RandomForestClassifier, ExtraTreesClassifier\n",
    "from bayes_opt import BayesianOptimization\n",
    "from sklearn.cross_validation import cross_val_score\n",
    "from sklearn.ensemble import RandomForestClassifier\n",
    "from sklearn.linear_model import LassoCV\n",
    "import gc\n",
    "from xgboost.sklearn import XGBClassifier\n",
    "import xgboost as xgb\n",
    "import lightgbm as lgb\n"
   ]
  },
  {
   "cell_type": "code",
   "execution_count": 7,
   "metadata": {},
   "outputs": [],
   "source": [
    "\n",
    "def data_prepare(num=None):\n",
    "    train = pd.read_csv('../data/handled/train.csv', nrows=num, index_col=0)\n",
    "    test = pd.read_csv('../data/handled/test.csv', nrows=num, index_col=0)\n",
    "    y_train = pd.read_csv('../data/handled/y_train.csv', nrows=num, header=-1, index_col=0)\n",
    "    return train, test, y_train.values.ravel()\n",
    "\n",
    "def imput_by_mean(train, test):\n",
    "    im = Imputer()\n",
    "    train = im.fit_transform(train)\n",
    "    test = im.transform(test)\n",
    "    return train, test\n"
   ]
  },
  {
   "cell_type": "code",
   "execution_count": 8,
   "metadata": {},
   "outputs": [],
   "source": [
    "df_train, df_test, y_train = data_prepare()\n",
    "train, test = imput_by_mean(df_train.values, df_test.values)"
   ]
  },
  {
   "cell_type": "markdown",
   "metadata": {},
   "source": [
    "# Random Forest"
   ]
  },
  {
   "cell_type": "code",
   "execution_count": 9,
   "metadata": {},
   "outputs": [],
   "source": [
    "def get_rf_result(n_estimators, \n",
    "                  max_depth, \n",
    "                  min_samples_split, \n",
    "                  min_samples_leaf, \n",
    "                  max_leaf_nodes,\n",
    "                 ):\n",
    "    global train, y_train\n",
    "    rf = RandomForestClassifier(n_estimators=int(n_estimators),\n",
    "                                max_depth = max(0, int(max_depth)),\n",
    "                                min_samples_split = max(0, int(min_samples_split)),\n",
    "                                min_samples_leaf = max(0, int(min_samples_leaf)),\n",
    "                                max_leaf_nodes = max(0, int(max_leaf_nodes))\n",
    "                               )\n",
    "    return np.mean(cross_val_score(rf, train, y_train, cv=5, scoring='roc_auc'))\n",
    "\n"
   ]
  },
  {
   "cell_type": "code",
   "execution_count": null,
   "metadata": {},
   "outputs": [
    {
     "name": "stdout",
     "output_type": "stream",
     "text": [
      "\u001b[31mInitialization\u001b[0m\n",
      "\u001b[94m--------------------------------------------------------------------------------------------------------------------------\u001b[0m\n",
      " Step |   Time |      Value |   max_depth |   max_leaf_nodes |   min_samples_leaf |   min_samples_split |   n_estimators | \n"
     ]
    }
   ],
   "source": [
    "rfBO = BayesianOptimization(get_rf_result,\n",
    "        {'n_estimators': (10, 500), \n",
    "         'max_depth': (5, 20),\n",
    "         'min_samples_split': (5, 100),\n",
    "         'min_samples_leaf': (5, 100),\n",
    "         'max_leaf_nodes' : (5, 100)\n",
    "        })\n",
    "\n",
    "rfBO.maximize(init_points=5, n_iter=30)"
   ]
  },
  {
   "cell_type": "code",
   "execution_count": null,
   "metadata": {},
   "outputs": [],
   "source": []
  }
 ],
 "metadata": {
  "kernelspec": {
   "display_name": "Python 3",
   "language": "python",
   "name": "python3"
  },
  "language_info": {
   "codemirror_mode": {
    "name": "ipython",
    "version": 3
   },
   "file_extension": ".py",
   "mimetype": "text/x-python",
   "name": "python",
   "nbconvert_exporter": "python",
   "pygments_lexer": "ipython3",
   "version": "3.6.5"
  }
 },
 "nbformat": 4,
 "nbformat_minor": 2
}
