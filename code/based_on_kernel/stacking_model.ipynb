{
 "cells": [
  {
   "cell_type": "code",
   "execution_count": 1,
   "metadata": {},
   "outputs": [],
   "source": [
    "import numpy as np\n",
    "import pandas as pd\n",
    "import gc\n",
    "import time\n",
    "from contextlib import contextmanager\n",
    "from lightgbm import LGBMClassifier\n",
    "from sklearn.metrics import roc_auc_score, roc_curve\n",
    "from sklearn.model_selection import KFold, StratifiedKFold, cross_val_score\n",
    "from sklearn.linear_model import LogisticRegression\n",
    "from sklearn.ensemble import RandomForestClassifier, ExtraTreesClassifier\n",
    "import matplotlib.pyplot as plt\n",
    "import seaborn as sns\n",
    "import warnings\n",
    "from sklearn.naive_bayes import  GaussianNB\n",
    "\n",
    "warnings.simplefilter(action='ignore', category=FutureWarning)\n"
   ]
  },
  {
   "cell_type": "code",
   "execution_count": 2,
   "metadata": {},
   "outputs": [],
   "source": [
    "df = pd.read_csv(\"../../data/handled/kernel_1/df_all.csv\", header=0, index_col=0)\n"
   ]
  },
  {
   "cell_type": "code",
   "execution_count": 3,
   "metadata": {},
   "outputs": [],
   "source": [
    "\n",
    "train_df = df[df['TARGET'].notnull()]\n",
    "test_df = df[df['TARGET'].isnull()]\n",
    "del df\n",
    "gc.collect()\n",
    "\n",
    "feats = [f for f in train_df.columns if f not in ['TARGET', 'SK_ID_CURR', 'SK_ID_BUREAU', 'SK_ID_PREV', 'index']]\n",
    "test_id = test_df['SK_ID_CURR']\n",
    "train_id = train_df['SK_ID_CURR']\n",
    "y_train = train_df.TARGET.values\n",
    "train_df = train_df.loc[:, feats]\n",
    "test_df = test_df.loc[:, feats]"
   ]
  },
  {
   "cell_type": "code",
   "execution_count": null,
   "metadata": {},
   "outputs": [],
   "source": []
  },
  {
   "cell_type": "code",
   "execution_count": 4,
   "metadata": {},
   "outputs": [],
   "source": [
    "# cross_val_score(clf_1, train_df, y_train, scoring='roc_auc')"
   ]
  },
  {
   "cell_type": "code",
   "execution_count": 5,
   "metadata": {},
   "outputs": [],
   "source": [
    "importance = pd.read_csv(\"feature_importance_330.csv\", header=0, index_col=0)\n",
    "select_feats = importance.groupby('feature')['importance'].mean().sort_values(ascending=False).index[:50]"
   ]
  },
  {
   "cell_type": "code",
   "execution_count": 6,
   "metadata": {},
   "outputs": [],
   "source": [
    "train_df_tiny = train_df.loc[:, select_feats]\n",
    "test_df_tiny = test_df.loc[:, select_feats]"
   ]
  },
  {
   "cell_type": "code",
   "execution_count": 7,
   "metadata": {},
   "outputs": [],
   "source": [
    "from sklearn.preprocessing import Imputer\n",
    "im = Imputer()\n",
    "train_df_tiny = im.fit_transform(train_df_tiny)\n",
    "test_df_tiny = im.transform(test_df_tiny)"
   ]
  },
  {
   "cell_type": "code",
   "execution_count": 8,
   "metadata": {},
   "outputs": [],
   "source": [
    "lgb_params = {\n",
    "    'nthread' : 8,\n",
    "    'n_estimators' : 10000,\n",
    "    'learning_rate' : 0.02,\n",
    "    'num_leaves' : 32,\n",
    "    'colsample_bytree' : 0.9497036,\n",
    "    'subsample' : 0.8715623,\n",
    "    'max_depth' : 8,\n",
    "    'reg_alpha' : 0.04,\n",
    "    'reg_lambda' : 0.073,\n",
    "    'min_split_gain' : 0.0222415,\n",
    "    'min_child_weight' : 40,\n",
    "    'silent' : -1,\n",
    "    'verbose' : -1,\n",
    "}\n",
    "\n",
    "rf_params = {\n",
    "    'n_jobs' : 8, \n",
    "    'n_estimators' : 200, \n",
    "    'max_depth' : 14, \n",
    "    'max_leaf_nodes' : 100, \n",
    "    'min_samples_leaf' : 50    \n",
    "}\n",
    "\n",
    "et_params = {\n",
    "    'n_jobs' : 8, \n",
    "    'n_estimators' : 400, \n",
    "    'max_depth' : 8, \n",
    "    'max_leaf_nodes' : 30, \n",
    "    'min_samples_leaf' : 80    \n",
    "}\n",
    "\n",
    "\n",
    "## 可以加入xgb"
   ]
  },
  {
   "cell_type": "code",
   "execution_count": 9,
   "metadata": {},
   "outputs": [
    {
     "data": {
      "text/plain": [
       "'LightGBM classifier.'"
      ]
     },
     "execution_count": 9,
     "metadata": {},
     "output_type": "execute_result"
    }
   ],
   "source": [
    "LGBMClassifier.__doc__"
   ]
  },
  {
   "cell_type": "code",
   "execution_count": 11,
   "metadata": {},
   "outputs": [],
   "source": [
    "class wrapper:\n",
    "    \n",
    "    def __init__(self, cls, params, n_folder=5):\n",
    "        self.cls_list = [cls(**params) for i in range(n_folder)]\n",
    "        self.n_folder = n_folder\n",
    "        self.doc = cls.__doc__\n",
    "        \n",
    "    def fit(self, x_train, y_train):\n",
    "        folds = KFold(n_splits=self.n_folder, shuffle=True, random_state=47)\n",
    "        for n_fold, (train_idx, valid_idx) in enumerate(folds.split(x_train, y_train)):\n",
    "            \n",
    "            if self.doc == 'LightGBM classifier.':\n",
    "                self.cls_list[n_fold].fit(x_train[train_idx], y_train[train_idx], eval_set=[(x_train[train_idx], y_train[train_idx]), (x_train[valid_idx], y_train[valid_idx])],\n",
    "                    eval_metric='auc', verbose=1000, early_stopping_rounds=200)\n",
    "                y_valid_predict = self.cls_list[n_fold].predict_proba(x_train[valid_idx], num_iteration=self.cls_list[n_fold].best_iteration_)[:, 1]\n",
    "            else:\n",
    "                self.cls_list[n_fold].fit(x_train[train_idx], y_train[train_idx])\n",
    "                y_valid_predict = self.cls_list[n_fold].predict_proba(x_train[valid_idx])[:, 1]\n",
    "            \n",
    "            roc = roc_auc_score(y_train[valid_idx], y_valid_predict)\n",
    "            print(\"------------fold:\", n_fold, \" Done, ROC: \", roc)\n",
    "            \n",
    "            \n",
    "    def predict_proba(self, x_test):\n",
    "        res = np.zeros(x_test.shape[0])\n",
    "        for cls in self.cls_list:\n",
    "            if self.doc == 'LightGBM classifier.':\n",
    "                res += cls.predict_proba(x_test, num_iteration=cls.best_iteration_)[:, 1]\n",
    "            else:\n",
    "                res += cls.predict_proba(x_test)[:, 1]\n",
    "        return res / self.n_folder\n",
    "        \n"
   ]
  },
  {
   "cell_type": "code",
   "execution_count": 12,
   "metadata": {},
   "outputs": [],
   "source": [
    "lgb = wrapper(LGBMClassifier, lgb_params)\n",
    "rf = wrapper(RandomForestClassifier, rf_params)\n",
    "et = wrapper(ExtraTreesClassifier, et_params)"
   ]
  },
  {
   "cell_type": "code",
   "execution_count": 13,
   "metadata": {},
   "outputs": [],
   "source": [
    " lgb_params2 = {\n",
    "            'nthread' : 8,\n",
    "            'n_estimators' : 10000,\n",
    "            'learning_rate' : 0.01,\n",
    "            'num_leaves' : 43,\n",
    "            'colsample_bytree' : 0.6558,\n",
    "            'subsample' : 0.8927,\n",
    "            'max_depth' : 14,\n",
    "            'reg_alpha' : 1.4957,\n",
    "            'reg_lambda' : 8.5621,\n",
    "            'min_split_gain' : 0.4919,\n",
    "            'min_child_weight' : 30,\n",
    "            'silent' : -1,\n",
    "            'verbose' : -1,\n",
    " }"
   ]
  },
  {
   "cell_type": "code",
   "execution_count": 14,
   "metadata": {},
   "outputs": [],
   "source": [
    "model_list = [(LGBMClassifier(**lgb_params), train_df.values, test_df.values),\n",
    "             (LGBMClassifier(**lgb_params), train_df_tiny, test_df_tiny),\n",
    "             (LGBMClassifier(**lgb_params2),  train_df_tiny, test_df_tiny),\n",
    "             ]"
   ]
  },
  {
   "cell_type": "code",
   "execution_count": 15,
   "metadata": {},
   "outputs": [],
   "source": [
    "def model_fit(model_tuple, train_ids, valid_ids, y_train):\n",
    "    model, train_df, test_df = model_tuple\n",
    "    _train_x = train_df[train_ids]\n",
    "    _train_y = y_train[train_ids]\n",
    "    _valid_x = train_df[valid_ids]\n",
    "    _valid_y = y_train[valid_ids]\n",
    "    \n",
    "    model.fit(_train_x, _train_y)\n",
    "    _valid_y_pred = model.predict_proba(_valid_x)[:, 1] # 如果使用wrapper的话就不需要[:, 1]\n",
    "    \n",
    "    auc = roc_auc_score(_valid_y, _valid_y_pred)\n",
    "    _test_y_pred = model.predict_proba(test_df)[:, 1]\n",
    "    return _valid_y_pred, _test_y_pred, auc"
   ]
  },
  {
   "cell_type": "code",
   "execution_count": 16,
   "metadata": {},
   "outputs": [
    {
     "name": "stderr",
     "output_type": "stream",
     "text": [
      "/usr/anaconda3/lib/python3.6/site-packages/sklearn/cross_validation.py:41: DeprecationWarning: This module was deprecated in version 0.18 in favor of the model_selection module into which all the refactored classes and functions are moved. Also note that the interface of the new CV iterators are different from that of this module. This module will be removed in 0.20.\n",
      "  \"This module will be removed in 0.20.\", DeprecationWarning)\n"
     ]
    }
   ],
   "source": [
    "from sklearn.cross_validation import StratifiedKFold\n",
    "def stacking(model_list, y_train, sample_num, test_sample_num, meta_model=LogisticRegression(), k_folder=5):\n",
    "\n",
    "    clfs_num = len(model_list)\n",
    "    folds = list(StratifiedKFold(y_train, k_folder, shuffle=True, random_state=47))\n",
    "\n",
    "    X_train_stack =  np.zeros((sample_num, clfs_num))\n",
    "    X_test_stack = np.zeros((test_sample_num, clfs_num))\n",
    "    auc_score_mat = np.zeros((clfs_num, k_folder))\n",
    "\n",
    "    for i, (train, test) in enumerate(folds):\n",
    "        print('fold:', i)\n",
    "        valid_y_lst = []\n",
    "        test_y_lst = []\n",
    "        for j, model_tuple in enumerate(model_list):\n",
    "            print(\"model:\", j)\n",
    "            valid_y, test_y, auc = model_fit(model_tuple, train, test, y_train)\n",
    "            valid_y_lst.append(valid_y)\n",
    "            test_y_lst.append(test_y)\n",
    "            auc_score_mat[j, i] = auc\n",
    "\n",
    "        X_train_stack[test, :] = np.column_stack(valid_y_lst)    # 训练集分 k_folder 次填充，得到[n_train_samples, clfs_num]\n",
    "        X_test_stack += np.column_stack(test_y_lst)\n",
    "    X_test_stack = X_test_stack / k_folder\n",
    "    return X_train_stack, X_test_stack, auc_score_mat\n",
    "#     meta_model.fit(X_train_stack, y_train)\n",
    "#     return meta_model.predict_proba(X_test_stack)[:, 1], auc_score_mat"
   ]
  },
  {
   "cell_type": "code",
   "execution_count": 17,
   "metadata": {
    "scrolled": true
   },
   "outputs": [
    {
     "name": "stdout",
     "output_type": "stream",
     "text": [
      "fold: 0\n",
      "model: 0\n",
      "model: 1\n",
      "model: 2\n",
      "fold: 1\n",
      "model: 0\n",
      "model: 1\n",
      "model: 2\n",
      "fold: 2\n",
      "model: 0\n",
      "model: 1\n",
      "model: 2\n",
      "fold: 3\n",
      "model: 0\n",
      "model: 1\n",
      "model: 2\n",
      "fold: 4\n",
      "model: 0\n",
      "model: 1\n",
      "model: 2\n"
     ]
    }
   ],
   "source": [
    "X_train_stack, X_test_stack, auc_score_mat = stacking(model_list, y_train, sample_num=train_df.shape[0], test_sample_num=test_df.shape[0])"
   ]
  },
  {
   "cell_type": "code",
   "execution_count": null,
   "metadata": {},
   "outputs": [],
   "source": []
  },
  {
   "cell_type": "code",
   "execution_count": 20,
   "metadata": {},
   "outputs": [
    {
     "data": {
      "text/plain": [
       "array([0.77992977, 0.78799419, 0.78760576, 0.79212439, 0.78430455,\n",
       "       0.78047858, 0.78801144, 0.78466757, 0.79059221, 0.78856046])"
      ]
     },
     "execution_count": 20,
     "metadata": {},
     "output_type": "execute_result"
    }
   ],
   "source": [
    "cross_val_score(LGBMClassifier(), X_train_stack, y_train, scoring='roc_auc', cv=10)"
   ]
  },
  {
   "cell_type": "code",
   "execution_count": 42,
   "metadata": {},
   "outputs": [
    {
     "data": {
      "text/plain": [
       "array([0.78460618, 0.78400739, 0.78561764])"
      ]
     },
     "execution_count": 42,
     "metadata": {},
     "output_type": "execute_result"
    }
   ],
   "source": [
    "cross_val_score(LGBMClassifier(), X_train_stack, y_train, scoring='roc_auc')"
   ]
  },
  {
   "cell_type": "code",
   "execution_count": null,
   "metadata": {},
   "outputs": [],
   "source": []
  },
  {
   "cell_type": "code",
   "execution_count": null,
   "metadata": {},
   "outputs": [],
   "source": []
  },
  {
   "cell_type": "code",
   "execution_count": null,
   "metadata": {},
   "outputs": [],
   "source": []
  },
  {
   "cell_type": "code",
   "execution_count": null,
   "metadata": {},
   "outputs": [],
   "source": []
  },
  {
   "cell_type": "code",
   "execution_count": 61,
   "metadata": {},
   "outputs": [],
   "source": [
    "# train_df_stacking = pd.DataFrame(X_train_stack, index=train_id)\n",
    "# test_df_stacking = pd.DataFrame(X_test_stack, index=test_id)"
   ]
  },
  {
   "cell_type": "code",
   "execution_count": 63,
   "metadata": {},
   "outputs": [],
   "source": [
    "# output = pd.concat((train_df_stacking, test_df_stacking))\n",
    "# output.columns = ['MY_FEATURE_1', 'MY_FEATURE_2', 'MY_FEATURE_3']\n"
   ]
  },
  {
   "cell_type": "code",
   "execution_count": 64,
   "metadata": {},
   "outputs": [],
   "source": [
    "# output.to_csv(\"../../data/handled/kernel_1/my_features.csv\")"
   ]
  },
  {
   "cell_type": "code",
   "execution_count": null,
   "metadata": {},
   "outputs": [],
   "source": []
  },
  {
   "cell_type": "code",
   "execution_count": null,
   "metadata": {},
   "outputs": [],
   "source": []
  },
  {
   "cell_type": "code",
   "execution_count": null,
   "metadata": {},
   "outputs": [],
   "source": []
  },
  {
   "cell_type": "code",
   "execution_count": null,
   "metadata": {},
   "outputs": [],
   "source": []
  },
  {
   "cell_type": "code",
   "execution_count": null,
   "metadata": {},
   "outputs": [],
   "source": []
  },
  {
   "cell_type": "code",
   "execution_count": null,
   "metadata": {},
   "outputs": [],
   "source": []
  },
  {
   "cell_type": "code",
   "execution_count": null,
   "metadata": {},
   "outputs": [],
   "source": []
  },
  {
   "cell_type": "code",
   "execution_count": null,
   "metadata": {},
   "outputs": [],
   "source": []
  },
  {
   "cell_type": "code",
   "execution_count": 48,
   "metadata": {},
   "outputs": [],
   "source": [
    "lgb = LGBMClassifier()\n",
    "lgb.fit(X_train_stack, y_train)\n",
    "y_predict = lgb.predict_proba(X_test_stack)[:, 1]"
   ]
  },
  {
   "cell_type": "code",
   "execution_count": 49,
   "metadata": {},
   "outputs": [],
   "source": [
    "res = pd.DataFrame(y_predict, index=test_id)"
   ]
  },
  {
   "cell_type": "code",
   "execution_count": 50,
   "metadata": {},
   "outputs": [],
   "source": [
    "res.index.name = 'SK_ID_CURR'"
   ]
  },
  {
   "cell_type": "code",
   "execution_count": 51,
   "metadata": {},
   "outputs": [],
   "source": [
    "res.columns = ['TARGET']"
   ]
  },
  {
   "cell_type": "code",
   "execution_count": 52,
   "metadata": {},
   "outputs": [],
   "source": [
    "res.to_csv('submission_stacking.csv')"
   ]
  },
  {
   "cell_type": "code",
   "execution_count": 53,
   "metadata": {},
   "outputs": [
    {
     "data": {
      "text/plain": [
       "Int64Index([100001, 100005, 100013, 100028, 100038, 100042, 100057, 100065,\n",
       "            100066, 100067,\n",
       "            ...\n",
       "            456168, 456169, 456170, 456189, 456202, 456221, 456222, 456223,\n",
       "            456224, 456250],\n",
       "           dtype='int64', name='SK_ID_CURR', length=48744)"
      ]
     },
     "execution_count": 53,
     "metadata": {},
     "output_type": "execute_result"
    }
   ],
   "source": [
    "res.index"
   ]
  },
  {
   "cell_type": "code",
   "execution_count": 60,
   "metadata": {},
   "outputs": [
    {
     "data": {
      "text/plain": [
       "array([[0.78667354, 0.78238815, 0.78157611, 0.78620955, 0.78620213],\n",
       "       [0.74709485, 0.7484572 , 0.74579839, 0.74225294, 0.74745149],\n",
       "       [0.73404863, 0.73476041, 0.73187642, 0.72865263, 0.7359247 ]])"
      ]
     },
     "execution_count": 60,
     "metadata": {},
     "output_type": "execute_result"
    }
   ],
   "source": [
    "auc_score_mat"
   ]
  },
  {
   "cell_type": "code",
   "execution_count": 65,
   "metadata": {},
   "outputs": [
    {
     "data": {
      "text/plain": [
       "(307507, 718)"
      ]
     },
     "execution_count": 65,
     "metadata": {},
     "output_type": "execute_result"
    }
   ],
   "source": [
    "train_df.shape"
   ]
  }
 ],
 "metadata": {
  "kernelspec": {
   "display_name": "Python 3",
   "language": "python",
   "name": "python3"
  },
  "language_info": {
   "codemirror_mode": {
    "name": "ipython",
    "version": 3
   },
   "file_extension": ".py",
   "mimetype": "text/x-python",
   "name": "python",
   "nbconvert_exporter": "python",
   "pygments_lexer": "ipython3",
   "version": "3.6.5"
  }
 },
 "nbformat": 4,
 "nbformat_minor": 2
}
