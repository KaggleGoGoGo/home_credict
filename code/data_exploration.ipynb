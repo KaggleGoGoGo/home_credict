{
 "cells": [
  {
   "cell_type": "code",
   "execution_count": 1,
   "metadata": {},
   "outputs": [],
   "source": [
    "import numpy as np\n",
    "import pandas as pd"
   ]
  },
  {
   "cell_type": "code",
   "execution_count": 2,
   "metadata": {},
   "outputs": [],
   "source": [
    "df_train = pd.read_csv(\"../data/application_train.csv\")"
   ]
  },
  {
   "cell_type": "code",
   "execution_count": 6,
   "metadata": {},
   "outputs": [
    {
     "data": {
      "text/plain": [
       "(307511, 122)"
      ]
     },
     "execution_count": 6,
     "metadata": {},
     "output_type": "execute_result"
    }
   ],
   "source": [
    "df_train.shape"
   ]
  },
  {
   "cell_type": "code",
   "execution_count": 16,
   "metadata": {},
   "outputs": [
    {
     "data": {
      "text/plain": [
       "COMMONAREA_MEDI                214865\n",
       "COMMONAREA_AVG                 214865\n",
       "COMMONAREA_MODE                214865\n",
       "NONLIVINGAPARTMENTS_MODE       213514\n",
       "NONLIVINGAPARTMENTS_MEDI       213514\n",
       "NONLIVINGAPARTMENTS_AVG        213514\n",
       "FONDKAPREMONT_MODE             210295\n",
       "LIVINGAPARTMENTS_MEDI          210199\n",
       "LIVINGAPARTMENTS_MODE          210199\n",
       "LIVINGAPARTMENTS_AVG           210199\n",
       "FLOORSMIN_MEDI                 208642\n",
       "FLOORSMIN_MODE                 208642\n",
       "FLOORSMIN_AVG                  208642\n",
       "YEARS_BUILD_MEDI               204488\n",
       "YEARS_BUILD_AVG                204488\n",
       "YEARS_BUILD_MODE               204488\n",
       "OWN_CAR_AGE                    202929\n",
       "LANDAREA_MODE                  182590\n",
       "LANDAREA_AVG                   182590\n",
       "LANDAREA_MEDI                  182590\n",
       "BASEMENTAREA_MEDI              179943\n",
       "BASEMENTAREA_AVG               179943\n",
       "BASEMENTAREA_MODE              179943\n",
       "EXT_SOURCE_1                   173378\n",
       "NONLIVINGAREA_MEDI             169682\n",
       "NONLIVINGAREA_AVG              169682\n",
       "NONLIVINGAREA_MODE             169682\n",
       "ELEVATORS_MODE                 163891\n",
       "ELEVATORS_AVG                  163891\n",
       "ELEVATORS_MEDI                 163891\n",
       "                                ...  \n",
       "REGION_RATING_CLIENT_W_CITY         0\n",
       "WEEKDAY_APPR_PROCESS_START          0\n",
       "FLAG_DOCUMENT_2                     0\n",
       "FLAG_DOCUMENT_3                     0\n",
       "FLAG_DOCUMENT_4                     0\n",
       "FLAG_DOCUMENT_5                     0\n",
       "FLAG_DOCUMENT_6                     0\n",
       "FLAG_DOCUMENT_7                     0\n",
       "FLAG_DOCUMENT_8                     0\n",
       "FLAG_DOCUMENT_9                     0\n",
       "FLAG_DOCUMENT_10                    0\n",
       "FLAG_DOCUMENT_11                    0\n",
       "FLAG_DOCUMENT_12                    0\n",
       "FLAG_DOCUMENT_13                    0\n",
       "FLAG_DOCUMENT_14                    0\n",
       "FLAG_DOCUMENT_15                    0\n",
       "FLAG_DOCUMENT_16                    0\n",
       "FLAG_DOCUMENT_17                    0\n",
       "FLAG_DOCUMENT_18                    0\n",
       "FLAG_DOCUMENT_19                    0\n",
       "FLAG_DOCUMENT_20                    0\n",
       "FLAG_DOCUMENT_21                    0\n",
       "ORGANIZATION_TYPE                   0\n",
       "LIVE_CITY_NOT_WORK_CITY             0\n",
       "REG_CITY_NOT_WORK_CITY              0\n",
       "REG_CITY_NOT_LIVE_CITY              0\n",
       "LIVE_REGION_NOT_WORK_REGION         0\n",
       "REG_REGION_NOT_WORK_REGION          0\n",
       "HOUR_APPR_PROCESS_START             0\n",
       "SK_ID_CURR                          0\n",
       "Length: 122, dtype: int64"
      ]
     },
     "execution_count": 16,
     "metadata": {},
     "output_type": "execute_result"
    }
   ],
   "source": [
    "s = df_train.isnull().sum()\n",
    "s.sort_values(ascending=False)"
   ]
  },
  {
   "cell_type": "code",
   "execution_count": null,
   "metadata": {},
   "outputs": [],
   "source": []
  }
 ],
 "metadata": {
  "kernelspec": {
   "display_name": "Python 3",
   "language": "python",
   "name": "python3"
  },
  "language_info": {
   "codemirror_mode": {
    "name": "ipython",
    "version": 3
   },
   "file_extension": ".py",
   "mimetype": "text/x-python",
   "name": "python",
   "nbconvert_exporter": "python",
   "pygments_lexer": "ipython3",
   "version": "3.6.4"
  }
 },
 "nbformat": 4,
 "nbformat_minor": 2
}
